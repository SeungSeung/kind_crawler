{
 "cells": [
  {
   "cell_type": "code",
   "execution_count": 1,
   "id": "efc7fb96",
   "metadata": {
    "ExecuteTime": {
     "end_time": "2023-01-06T00:10:43.225276Z",
     "start_time": "2023-01-06T00:10:41.720360Z"
    }
   },
   "outputs": [],
   "source": [
    "import selenium\n",
    "from selenium import webdriver\n",
    "from selenium.webdriver import ActionChains\n",
    "from selenium.webdriver.chrome.options import Options\n",
    "from selenium.webdriver.common.keys import Keys\n",
    "from selenium.webdriver.common.by import By\n",
    "\n",
    "from selenium.webdriver.support import expected_conditions as EC\n",
    "from selenium.webdriver.support.ui import Select\n",
    "from selenium.webdriver.support.ui import WebDriverWait\n",
    "import pandas as pd\n",
    "import numpy as np\n",
    "import datetime\n",
    "import time\n",
    "import os\n",
    "from webdriver_manager.chrome import ChromeDriverManager\n",
    "import pandas as pd\n",
    "import asyncio\n",
    "from selenium.webdriver.common.by import By\n",
    "from bs4 import BeautifulSoup\n",
    "import requests\n",
    "from urllib import request\n",
    "from urllib.error import HTTPError\n",
    "from urllib.error import URLError\n",
    "\n",
    "today=datetime.datetime.today()\n",
    "yesterday=today-datetime.timedelta(1)\n",
    "today=str(pd.to_datetime(today))[:10]\n",
    "yesterday=str(pd.to_datetime(yesterday))[:10]\n",
    "\n",
    "\n",
    "\n",
    "\n",
    "files=os.listdir()"
   ]
  },
  {
   "attachments": {},
   "cell_type": "markdown",
   "id": "faea8bb1",
   "metadata": {},
   "source": [
    "# kospi 소각주 크롤링"
   ]
  },
  {
   "cell_type": "code",
   "execution_count": 4,
   "id": "a4ffe78d",
   "metadata": {
    "ExecuteTime": {
     "end_time": "2023-01-05T07:22:14.628417Z",
     "start_time": "2023-01-05T07:21:36.082973Z"
    }
   },
   "outputs": [
    {
     "name": "stderr",
     "output_type": "stream",
     "text": [
      "C:\\Users\\exp202207\\AppData\\Local\\Temp\\ipykernel_3528\\4124306517.py:3: DeprecationWarning: executable_path has been deprecated, please pass in a Service object\n",
      "  driver=webdriver.Chrome(ChromeDriverManager().install())\n"
     ]
    },
    {
     "name": "stdout",
     "output_type": "stream",
     "text": [
      "'20221006000235'\n",
      "'20221006000235'\n",
      "'20220324000129'\n",
      "'20220324000129'\n",
      "'20211117000562'\n",
      "'20200326001752'\n",
      "'20200326001752'\n",
      "'20200130000005'\n"
     ]
    }
   ],
   "source": [
    "url='http://kind.krx.co.kr/disclosure/details.do?method=searchDetailsMain'\n",
    "path=os.getcwd()\n",
    "driver=webdriver.Chrome(ChromeDriverManager().install())\n",
    "driver.get(url)\n",
    "time.sleep(2)\n",
    "\n",
    "\n",
    "\n",
    "# url='http://kind.krx.co.kr/disclosure/details.do?method=searchDetailsMain'\n",
    "# path=os.getcwd()\n",
    "# driver=webdriver.Chrome(ChromeDriverManager().install())\n",
    "# driver.get(url)\n",
    "# time.sleep(2)\n",
    "####공시 100 페이지로 늘리기\n",
    "#driver.find_element(By.XPATH,'//*[@id=\"currentPageSize\"]').click()\n",
    "driver.find_element(By.XPATH,'//*[@id=\"currentPageSize\"]/option[4]').click()\n",
    "driver.find_element(By.XPATH,'//*[@id=\"main-contents\"]/section[2]/div[2]/a').click()\n",
    "\n",
    "\n",
    "driver.find_element(By.XPATH,'//*[@id=\"search-btn-dates\"]/ul/li[7]/a').click()\n",
    "\n",
    "driver.find_element(By.XPATH,'//*[@id=\"searchForm\"]/section[1]/div/div[3]/a[1]').click()\n",
    "time.sleep(7)\n",
    "driver.find_element(By.XPATH,'//*[@id=\"rWertpapier\"]').click()###유가증권 여부\n",
    "time.sleep(5)\n",
    "driver.find_element(By.XPATH,'//*[@id=\"dsclsType01\"]').click()###수시공시 클릭\n",
    "driver.find_element(By.XPATH,'//*[@id=\"dsclsLayer01_47\"]').click()### 주식 소각 클릭\n",
    "driver.find_element(By.XPATH,'//*[@id=\"searchForm\"]/section[1]/div/div[3]/a[1]').click()## 검색 클릭\n",
    "time.sleep(2)\n",
    "\n",
    "\n",
    "\n",
    "\n",
    "\n",
    "###총 몇페이지인지\n",
    "last_page=np.ceil(int(driver.find_element(By.XPATH,'//*[@id=\"main-contents\"]/section[2]/div[2]/em').text)/100)\n",
    "fire_dict=dict()\n",
    "while True:\n",
    "    \n",
    "    ####현재 몇페이지 인지\n",
    "    now_page=int(driver.find_element(By.XPATH,'//*[@id=\"main-contents\"]/section[2]/div[2]/strong').text)\n",
    "    \n",
    "    \n",
    "    ####현 페이지에서 제일 큰 공시번호 \n",
    "    num=driver.find_element(By.XPATH,'//*[@id=\"main-contents\"]/section[1]/table/tbody/tr[1]/td[1]').text\n",
    "    num=int(num)\n",
    "    X_path_list=[]####공시 제목 XPATH\n",
    "    #infra_dict=dict()\n",
    "    company_name_data=driver.find_elements(By.XPATH,f'//*[@id=\"companysum\"]')\n",
    "    \n",
    "    \n",
    "    if now_page<last_page:\n",
    "        spread=100\n",
    "    elif now_page==last_page:\n",
    "        spread=int(driver.find_element(By.XPATH,'//*[@id=\"main-contents\"]/section[2]/div[2]/em').text)%100\n",
    "    \n",
    "    time.sleep(2)\n",
    "    for i in range(1,spread+1):\n",
    "        X_path_list.append(f'//*[@id=\"main-contents\"]/section[1]/table/tbody/tr[{i}]/td[4]/a')\n",
    "        date=driver.find_element(By.XPATH,f'//*[@id=\"main-contents\"]/section[1]/table/tbody/tr[{i}]/td[2]').text\n",
    "        date=date[:10]\n",
    "        #time.sleep(1)\n",
    "        temp_company_name=company_name_data[i-1].text\n",
    "        report_code=driver.find_element(By.XPATH,X_path_list[i-1]).get_attribute(\"onclick\")#### 공시레포트 코드 가져오기\n",
    "        c_index = report_code.find(\"(\") # 키 값 파싱\n",
    "        ind_code_r = report_code[(c_index+2):(c_index+2+14)]\n",
    "        temp_tag=driver.find_element(By.XPATH,f'//*[@id=\"main-contents\"]/section[1]/table/tbody/tr[{i}]/td[4]/a').text\n",
    "        fire_dict[ind_code_r]=(date,temp_tag+temp_company_name)\n",
    "        #print(fire_dict)\n",
    "    \n",
    "    #driver.find_element(By.XPATH,'//*[@id=\"main-contents\"]/section[2]/div[1]/a[12]').click()\n",
    "    \n",
    "    \n",
    "    driver.find_element(By.XPATH,'//*[@id=\"main-contents\"]/section[2]/div[1]/a[5]').click()\n",
    "  \n",
    "    time.sleep(2)\n",
    "    if now_page==last_page: break\n",
    "\n",
    "convert_fire_dict={v:k for k,v in fire_dict.items()}\n",
    "flag_list=[ flag for flag in fire_dict.values() if '정정' in flag[1]]\n",
    "fire_dict2=fire_dict.copy()\n",
    "for temp_fire in fire_dict.values():\n",
    "    for fire_two in flag_list:\n",
    "\n",
    "        if (temp_fire[1] in fire_two[1]) and ('정정' not in temp_fire[1]):\n",
    "            #print(temp_infra[1])\n",
    "            try:\n",
    "                fire_dict2.pop(convert_fire_dict[temp_fire])\n",
    "            except Exception as e:\n",
    "                print(e)    \n",
    "                \n",
    "                \n",
    "                \n",
    "df=pd.DataFrame(columns=['code','name','announce_date','total_ratio'])\n",
    "tickers=list()\n",
    "announce_date=list()\n",
    "name=list()\n",
    "ratio_list=list()"
   ]
  },
  {
   "cell_type": "code",
   "execution_count": 15,
   "id": "336c6674",
   "metadata": {
    "ExecuteTime": {
     "end_time": "2023-01-05T07:26:23.448810Z",
     "start_time": "2023-01-05T07:26:23.431760Z"
    }
   },
   "outputs": [
    {
     "data": {
      "text/plain": [
       "{('2022-12-14', '주식 소각 결정호전실업'): '20221214000818',\n",
       " ('2022-12-14', '주식 소각 결정미원상사'): '20221214000712',\n",
       " ('2022-12-13', '주식 소각 결정금호에이치티'): '20221213000498',\n",
       " ('2022-12-07', '주식 소각 결정디아이'): '20221207000166',\n",
       " ('2022-11-24', '주식 소각 결정(자회사의 주요경영사항)메리츠금융지주'): '20221124000515',\n",
       " ('2022-11-24', '주식 소각 결정메리츠화재'): '20221124000503',\n",
       " ('2022-11-18', '[정정]주식 소각 결정신한지주'): '20221118000436',\n",
       " ('2022-11-14', '주식 소각 결정백산'): '20221114000646',\n",
       " ('2022-11-14', '주식 소각 결정한미반도체'): '20221114000182',\n",
       " ('2022-11-03', '주식 소각 결정(자회사의 주요경영사항)메리츠금융지주'): '20221103000471',\n",
       " ('2022-11-03', '주식 소각 결정메리츠증권'): '20221103000459',\n",
       " ('2022-10-06', '주식 소각 결정신한지주'): '20221006000235',\n",
       " ('2022-09-28', '주식 소각 결정(자회사의 주요경영사항)SK디스커버리'): '20220928000602',\n",
       " ('2022-09-28', '주식 소각 결정SK케미칼'): '20220928000576',\n",
       " ('2022-09-20', '주식 소각 결정금호석유화학'): '20220920000177',\n",
       " ('2022-09-07', '주식 소각 결정현대모비스'): '20220907000460',\n",
       " ('2022-08-30', '주식 소각 결정메리츠금융지주'): '20220830000487',\n",
       " ('2022-08-30', '주식 소각 결정(자회사의 주요경영사항)메리츠금융지주'): '20220830000459',\n",
       " ('2022-08-30', '주식 소각 결정메리츠화재'): '20220830000443',\n",
       " ('2022-08-12', '주식 소각 결정POSCO홀딩스'): '20220812000419',\n",
       " ('2022-08-09', '주식 소각 결정엔에이치엔'): '20220809000010',\n",
       " ('2022-07-28', '주식 소각 결정(자회사의 주요경영사항)HL홀딩스'): '20220728000231',\n",
       " ('2022-07-28', '주식 소각 결정HL D&I'): '20220728000219',\n",
       " ('2022-07-21', '주식 소각 결정KB금융'): '20220721000277',\n",
       " ('2022-07-19', '주식 소각 결정락앤락'): '20220719000455',\n",
       " ('2022-07-12', '주식 소각 결정(자회사의 주요경영사항)SK디스커버리'): '20220712000315',\n",
       " ('2022-06-29', '주식 소각 결정(자회사의 주요경영사항)메리츠금융지주'): '20220629000721',\n",
       " ('2022-06-29', '주식 소각 결정메리츠화재'): '20220629000710',\n",
       " ('2022-06-28', '주식 소각 결정화성산업'): '20220628000608',\n",
       " ('2022-06-21', '주식 소각 결정(자회사의 주요경영사항)메리츠금융지주'): '20220621000455',\n",
       " ('2022-06-21', '주식 소각 결정메리츠증권'): '20220621000448',\n",
       " ('2022-06-13', '주식 소각 결정메리츠금융지주'): '20220613000336',\n",
       " ('2022-04-22', '주식 소각 결정하나금융지주'): '20220422000436',\n",
       " ('2022-04-22', '주식 소각 결정디씨엠'): '20220422000252',\n",
       " ('2022-04-20', '[정정]주식 소각 결정신한지주'): '20220420000635',\n",
       " ('2022-03-24', '주식 소각 결정다올투자증권'): '20220324000908',\n",
       " ('2022-03-24', '주식 소각 결정신한지주'): '20220324000129',\n",
       " ('2022-03-17', '주식 소각 결정(자회사의 주요경영사항)메리츠금융지주'): '20220317001323',\n",
       " ('2022-03-17', '주식 소각 결정메리츠증권'): '20220317001279',\n",
       " ('2022-03-16', '주식 소각 결정(자회사의 주요경영사항)KISCO홀딩스'): '20220316000123',\n",
       " ('2022-03-16', '주식 소각 결정한국철강'): '20220316000105',\n",
       " ('2022-03-16', '주식 소각 결정KISCO홀딩스'): '20220316000102',\n",
       " ('2022-03-04', '주식 소각 결정메리츠금융지주'): '20220304000638',\n",
       " ('2022-03-02', '주식 소각 결정KSS해운'): '20220302000357',\n",
       " ('2022-02-15', '주식 소각 결정엔에스쇼핑'): '20220215000794',\n",
       " ('2022-02-09', '주식 소각 결정드림텍'): '20220209000138',\n",
       " ('2022-02-08', '주식 소각 결정KB금융'): '20220208000631',\n",
       " ('2022-01-27', '주식 소각 결정미래에셋증권'): '20220127000438',\n",
       " ('2021-12-22', '주식 소각 결정부산도시가스'): '20211222000118',\n",
       " ('2021-12-15', '주식 소각 결정금호석유화학'): '20211215001170',\n",
       " ('2021-11-25', '[정정]주식 소각 결정NAVER'): '20211125000596',\n",
       " ('2021-11-17', '주식 소각 결정NAVER'): '20211117000562',\n",
       " ('2021-11-17', '주식 소각 결정락앤락'): '20211117000419',\n",
       " ('2021-10-28', '주식 소각 결정(자회사의 주요경영사항)HL홀딩스'): '20211028000232',\n",
       " ('2021-10-28', '주식 소각 결정HL D&I'): '20211028000220',\n",
       " ('2021-10-28', '주식 소각 결정현대모비스'): '20211028000160',\n",
       " ('2021-09-13', '주식 소각 결정(자회사의 주요경영사항)HL홀딩스'): '20210913000134',\n",
       " ('2021-09-13', '주식 소각 결정HL D&I'): '20210913000129',\n",
       " ('2021-05-04', '주식 소각 결정(자회사의 주요경영사항)SK'): '20210504000051',\n",
       " ('2021-05-04', '주식 소각 결정SK텔레콤'): '20210504000041',\n",
       " ('2021-04-26', '주식 소각 결정경농'): '20210426000192',\n",
       " ('2021-04-01', '[정정]주식 소각 결정다올투자증권'): '20210401000624',\n",
       " ('2021-03-25', '주식 소각 결정다올투자증권'): '20210325000381',\n",
       " ('2021-03-25', '주식 소각 결정신흥'): '20210325000203',\n",
       " ('2021-03-23', '주식 소각 결정드림텍'): '20210323000125',\n",
       " ('2021-03-19', '주식 소각 결정(자회사의 주요경영사항)SK디스커버리'): '20210319001122',\n",
       " ('2021-03-05', '주식 소각 결정한미반도체'): '20210305000195',\n",
       " ('2021-02-25', '주식 소각 결정미래에셋증권'): '20210225001253',\n",
       " ('2021-02-15', '주식 소각 결정아이마켓코리아'): '20210215000853',\n",
       " ('2021-01-28', '주식 소각 결정현대모비스'): '20210128000159',\n",
       " ('2021-01-18', '주식 소각 결정풍산홀딩스'): '20210118000476',\n",
       " ('2020-12-23', '[정정]주식 소각 결정기업은행'): '20201223000372',\n",
       " ('2020-12-21', '주식 소각 결정(자회사의 주요경영사항)웅진'): '20201221000155',\n",
       " ('2020-12-21', '주식 소각 결정웅진씽크빅'): '20201221000149',\n",
       " ('2020-11-19', '주식 소각 결정기업은행'): '20201119000432',\n",
       " ('2020-11-11', '주식 소각 결정락앤락'): '20201111000001',\n",
       " ('2020-10-13', '주식 소각 결정한일홀딩스'): '20201013000374',\n",
       " ('2020-07-02', '주식 소각 결정아이마켓코리아'): '20200702000284',\n",
       " ('2020-06-18', '주식 소각 결정현대엘리베이터'): '20200618000150',\n",
       " ('2020-05-28', '[정정]주식 소각 결정신한지주'): '20200528000550',\n",
       " ('2020-05-11', '주식 소각 결정메리츠금융지주'): '20200511000644',\n",
       " ('2020-04-29', '주식 소각 결정(자회사의 주요경영사항)SK디스커버리'): '20200429000422',\n",
       " ('2020-04-08', '주식 소각 결정미원상사'): '20200408000720',\n",
       " ('2020-04-08', '주식 소각 결정(자회사의 주요경영사항)미원홀딩스'): '20200408000468',\n",
       " ('2020-04-08', '주식 소각 결정미원에스씨'): '20200408000459',\n",
       " ('2020-03-30', '주식 소각 결정드림텍'): '20200330000967',\n",
       " ('2020-03-26', '주식 소각 결정신한지주'): '20200326001752',\n",
       " ('2020-03-26', '주식 소각 결정다올투자증권'): '20200326000727',\n",
       " ('2020-03-25', '주식 소각 결정미원상사'): '20200325001174',\n",
       " ('2020-03-25', '주식 소각 결정미원홀딩스'): '20200325000536',\n",
       " ('2020-03-20', '주식 소각 결정미래에셋증권'): '20200320000440',\n",
       " ('2020-03-19', '주식 소각 결정미원상사'): '20200319002518',\n",
       " ('2020-03-19', '주식 소각 결정(자회사의 주요경영사항)미원홀딩스'): '20200319002410',\n",
       " ('2020-03-19', '주식 소각 결정동남합성'): '20200319002479',\n",
       " ('2020-03-19', '주식 소각 결정미원에스씨'): '20200319002296',\n",
       " ('2020-03-18', '[정정]주식 소각 결정한화에어로스페이스'): '20200318000941',\n",
       " ('2020-02-27', '[정정]주식 소각 결정NAVER'): '20200227001128',\n",
       " ('2020-02-27', '[정정]주식 소각 결정휠라홀딩스'): '20200227000478',\n",
       " ('2020-02-21', '주식 소각 결정한화에어로스페이스'): '20200221000399',\n",
       " ('2020-02-20', '주식 소각 결정한화솔루션'): '20200220000222',\n",
       " ('2020-02-20', '주식 소각 결정태평양물산'): '20200220000124',\n",
       " ('2020-02-12', '[정정]주식 소각 결정부광약품'): '20200212000167',\n",
       " ('2020-02-06', '주식 소각 결정HD현대'): '20200206000341',\n",
       " ('2020-01-30', '주식 소각 결정현대모비스'): '20200130000352',\n",
       " ('2020-01-30', '주식 소각 결정NAVER'): '20200130000005',\n",
       " ('2020-01-22', '주식 소각 결정한미반도체'): '20200122000112',\n",
       " ('2020-01-08', '주식 소각 결정부광약품'): '20200108000083'}"
      ]
     },
     "execution_count": 15,
     "metadata": {},
     "output_type": "execute_result"
    }
   ],
   "source": [
    "convert_fire_dict"
   ]
  },
  {
   "cell_type": "code",
   "execution_count": 9,
   "id": "36724954",
   "metadata": {
    "ExecuteTime": {
     "end_time": "2023-01-05T08:25:13.902847Z",
     "start_time": "2023-01-05T08:24:35.461471Z"
    },
    "scrolled": true
   },
   "outputs": [
    {
     "name": "stdout",
     "output_type": "stream",
     "text": [
      "HTTP Error 404: Not Found\n"
     ]
    },
    {
     "name": "stderr",
     "output_type": "stream",
     "text": [
      "C:\\Users\\exp202207\\AppData\\Local\\Temp\\ipykernel_3528\\2251890180.py:94: PerformanceWarning: indexing past lexsort depth may impact performance.\n",
      "  common_stock=temp_df.loc[('2. 발행주식 총수','보통주식 (주)'),2]\n",
      "C:\\Users\\exp202207\\AppData\\Local\\Temp\\ipykernel_3528\\2251890180.py:95: PerformanceWarning: indexing past lexsort depth may impact performance.\n",
      "  common_fire=temp_df.loc[('1. 소각할 주식의 종류와 수','보통주식 (주)'),2]\n",
      "C:\\Users\\exp202207\\AppData\\Local\\Temp\\ipykernel_3528\\2251890180.py:96: PerformanceWarning: indexing past lexsort depth may impact performance.\n",
      "  prefer_stock=temp_df.loc[('2. 발행주식 총수','종류주식 (주)'),2]\n",
      "C:\\Users\\exp202207\\AppData\\Local\\Temp\\ipykernel_3528\\2251890180.py:97: PerformanceWarning: indexing past lexsort depth may impact performance.\n",
      "  prefer_fire=temp_df.loc[('1. 소각할 주식의 종류와 수','종류주식 (주)'),2]\n"
     ]
    },
    {
     "name": "stdout",
     "output_type": "stream",
     "text": [
      "HTTP Error 404: Not Found\n"
     ]
    },
    {
     "name": "stderr",
     "output_type": "stream",
     "text": [
      "C:\\Users\\exp202207\\AppData\\Local\\Temp\\ipykernel_3528\\2251890180.py:94: PerformanceWarning: indexing past lexsort depth may impact performance.\n",
      "  common_stock=temp_df.loc[('2. 발행주식 총수','보통주식 (주)'),2]\n",
      "C:\\Users\\exp202207\\AppData\\Local\\Temp\\ipykernel_3528\\2251890180.py:95: PerformanceWarning: indexing past lexsort depth may impact performance.\n",
      "  common_fire=temp_df.loc[('1. 소각할 주식의 종류와 수','보통주식 (주)'),2]\n",
      "C:\\Users\\exp202207\\AppData\\Local\\Temp\\ipykernel_3528\\2251890180.py:96: PerformanceWarning: indexing past lexsort depth may impact performance.\n",
      "  prefer_stock=temp_df.loc[('2. 발행주식 총수','종류주식 (주)'),2]\n",
      "C:\\Users\\exp202207\\AppData\\Local\\Temp\\ipykernel_3528\\2251890180.py:97: PerformanceWarning: indexing past lexsort depth may impact performance.\n",
      "  prefer_fire=temp_df.loc[('1. 소각할 주식의 종류와 수','종류주식 (주)'),2]\n"
     ]
    },
    {
     "name": "stdout",
     "output_type": "stream",
     "text": [
      "HTTP Error 404: Not Found\n"
     ]
    },
    {
     "name": "stderr",
     "output_type": "stream",
     "text": [
      "C:\\Users\\exp202207\\AppData\\Local\\Temp\\ipykernel_3528\\2251890180.py:94: PerformanceWarning: indexing past lexsort depth may impact performance.\n",
      "  common_stock=temp_df.loc[('2. 발행주식 총수','보통주식 (주)'),2]\n",
      "C:\\Users\\exp202207\\AppData\\Local\\Temp\\ipykernel_3528\\2251890180.py:95: PerformanceWarning: indexing past lexsort depth may impact performance.\n",
      "  common_fire=temp_df.loc[('1. 소각할 주식의 종류와 수','보통주식 (주)'),2]\n",
      "C:\\Users\\exp202207\\AppData\\Local\\Temp\\ipykernel_3528\\2251890180.py:96: PerformanceWarning: indexing past lexsort depth may impact performance.\n",
      "  prefer_stock=temp_df.loc[('2. 발행주식 총수','종류주식 (주)'),2]\n",
      "C:\\Users\\exp202207\\AppData\\Local\\Temp\\ipykernel_3528\\2251890180.py:97: PerformanceWarning: indexing past lexsort depth may impact performance.\n",
      "  prefer_fire=temp_df.loc[('1. 소각할 주식의 종류와 수','종류주식 (주)'),2]\n"
     ]
    },
    {
     "name": "stdout",
     "output_type": "stream",
     "text": [
      "HTTP Error 404: Not Found\n"
     ]
    },
    {
     "name": "stderr",
     "output_type": "stream",
     "text": [
      "C:\\Users\\exp202207\\AppData\\Local\\Temp\\ipykernel_3528\\2251890180.py:94: PerformanceWarning: indexing past lexsort depth may impact performance.\n",
      "  common_stock=temp_df.loc[('2. 발행주식 총수','보통주식 (주)'),2]\n",
      "C:\\Users\\exp202207\\AppData\\Local\\Temp\\ipykernel_3528\\2251890180.py:95: PerformanceWarning: indexing past lexsort depth may impact performance.\n",
      "  common_fire=temp_df.loc[('1. 소각할 주식의 종류와 수','보통주식 (주)'),2]\n",
      "C:\\Users\\exp202207\\AppData\\Local\\Temp\\ipykernel_3528\\2251890180.py:96: PerformanceWarning: indexing past lexsort depth may impact performance.\n",
      "  prefer_stock=temp_df.loc[('2. 발행주식 총수','종류주식 (주)'),2]\n",
      "C:\\Users\\exp202207\\AppData\\Local\\Temp\\ipykernel_3528\\2251890180.py:97: PerformanceWarning: indexing past lexsort depth may impact performance.\n",
      "  prefer_fire=temp_df.loc[('1. 소각할 주식의 종류와 수','종류주식 (주)'),2]\n"
     ]
    },
    {
     "name": "stdout",
     "output_type": "stream",
     "text": [
      "HTTP Error 404: Not Found\n"
     ]
    },
    {
     "name": "stderr",
     "output_type": "stream",
     "text": [
      "C:\\Users\\exp202207\\AppData\\Local\\Temp\\ipykernel_3528\\2251890180.py:94: PerformanceWarning: indexing past lexsort depth may impact performance.\n",
      "  common_stock=temp_df.loc[('2. 발행주식 총수','보통주식 (주)'),2]\n",
      "C:\\Users\\exp202207\\AppData\\Local\\Temp\\ipykernel_3528\\2251890180.py:95: PerformanceWarning: indexing past lexsort depth may impact performance.\n",
      "  common_fire=temp_df.loc[('1. 소각할 주식의 종류와 수','보통주식 (주)'),2]\n",
      "C:\\Users\\exp202207\\AppData\\Local\\Temp\\ipykernel_3528\\2251890180.py:96: PerformanceWarning: indexing past lexsort depth may impact performance.\n",
      "  prefer_stock=temp_df.loc[('2. 발행주식 총수','종류주식 (주)'),2]\n",
      "C:\\Users\\exp202207\\AppData\\Local\\Temp\\ipykernel_3528\\2251890180.py:97: PerformanceWarning: indexing past lexsort depth may impact performance.\n",
      "  prefer_fire=temp_df.loc[('1. 소각할 주식의 종류와 수','종류주식 (주)'),2]\n"
     ]
    },
    {
     "name": "stdout",
     "output_type": "stream",
     "text": [
      "HTTP Error 404: Not Found\n",
      "('2. 발행주식 총수', '보통주식 (주)')\n"
     ]
    },
    {
     "name": "stderr",
     "output_type": "stream",
     "text": [
      "C:\\Users\\exp202207\\AppData\\Local\\Temp\\ipykernel_3528\\2251890180.py:94: PerformanceWarning: indexing past lexsort depth may impact performance.\n",
      "  common_stock=temp_df.loc[('2. 발행주식 총수','보통주식 (주)'),2]\n",
      "C:\\Users\\exp202207\\AppData\\Local\\Temp\\ipykernel_3528\\2251890180.py:95: PerformanceWarning: indexing past lexsort depth may impact performance.\n",
      "  common_fire=temp_df.loc[('1. 소각할 주식의 종류와 수','보통주식 (주)'),2]\n",
      "C:\\Users\\exp202207\\AppData\\Local\\Temp\\ipykernel_3528\\2251890180.py:96: PerformanceWarning: indexing past lexsort depth may impact performance.\n",
      "  prefer_stock=temp_df.loc[('2. 발행주식 총수','종류주식 (주)'),2]\n",
      "C:\\Users\\exp202207\\AppData\\Local\\Temp\\ipykernel_3528\\2251890180.py:97: PerformanceWarning: indexing past lexsort depth may impact performance.\n",
      "  prefer_fire=temp_df.loc[('1. 소각할 주식의 종류와 수','종류주식 (주)'),2]\n"
     ]
    },
    {
     "name": "stdout",
     "output_type": "stream",
     "text": [
      "HTTP Error 404: Not Found\n"
     ]
    },
    {
     "name": "stderr",
     "output_type": "stream",
     "text": [
      "C:\\Users\\exp202207\\AppData\\Local\\Temp\\ipykernel_3528\\2251890180.py:94: PerformanceWarning: indexing past lexsort depth may impact performance.\n",
      "  common_stock=temp_df.loc[('2. 발행주식 총수','보통주식 (주)'),2]\n",
      "C:\\Users\\exp202207\\AppData\\Local\\Temp\\ipykernel_3528\\2251890180.py:95: PerformanceWarning: indexing past lexsort depth may impact performance.\n",
      "  common_fire=temp_df.loc[('1. 소각할 주식의 종류와 수','보통주식 (주)'),2]\n",
      "C:\\Users\\exp202207\\AppData\\Local\\Temp\\ipykernel_3528\\2251890180.py:96: PerformanceWarning: indexing past lexsort depth may impact performance.\n",
      "  prefer_stock=temp_df.loc[('2. 발행주식 총수','종류주식 (주)'),2]\n",
      "C:\\Users\\exp202207\\AppData\\Local\\Temp\\ipykernel_3528\\2251890180.py:97: PerformanceWarning: indexing past lexsort depth may impact performance.\n",
      "  prefer_fire=temp_df.loc[('1. 소각할 주식의 종류와 수','종류주식 (주)'),2]\n"
     ]
    },
    {
     "name": "stdout",
     "output_type": "stream",
     "text": [
      "HTTP Error 404: Not Found\n"
     ]
    },
    {
     "name": "stderr",
     "output_type": "stream",
     "text": [
      "C:\\Users\\exp202207\\AppData\\Local\\Temp\\ipykernel_3528\\2251890180.py:94: PerformanceWarning: indexing past lexsort depth may impact performance.\n",
      "  common_stock=temp_df.loc[('2. 발행주식 총수','보통주식 (주)'),2]\n",
      "C:\\Users\\exp202207\\AppData\\Local\\Temp\\ipykernel_3528\\2251890180.py:95: PerformanceWarning: indexing past lexsort depth may impact performance.\n",
      "  common_fire=temp_df.loc[('1. 소각할 주식의 종류와 수','보통주식 (주)'),2]\n",
      "C:\\Users\\exp202207\\AppData\\Local\\Temp\\ipykernel_3528\\2251890180.py:96: PerformanceWarning: indexing past lexsort depth may impact performance.\n",
      "  prefer_stock=temp_df.loc[('2. 발행주식 총수','종류주식 (주)'),2]\n",
      "C:\\Users\\exp202207\\AppData\\Local\\Temp\\ipykernel_3528\\2251890180.py:97: PerformanceWarning: indexing past lexsort depth may impact performance.\n",
      "  prefer_fire=temp_df.loc[('1. 소각할 주식의 종류와 수','종류주식 (주)'),2]\n"
     ]
    },
    {
     "name": "stdout",
     "output_type": "stream",
     "text": [
      "HTTP Error 404: Not Found\n"
     ]
    },
    {
     "name": "stderr",
     "output_type": "stream",
     "text": [
      "C:\\Users\\exp202207\\AppData\\Local\\Temp\\ipykernel_3528\\2251890180.py:94: PerformanceWarning: indexing past lexsort depth may impact performance.\n",
      "  common_stock=temp_df.loc[('2. 발행주식 총수','보통주식 (주)'),2]\n",
      "C:\\Users\\exp202207\\AppData\\Local\\Temp\\ipykernel_3528\\2251890180.py:95: PerformanceWarning: indexing past lexsort depth may impact performance.\n",
      "  common_fire=temp_df.loc[('1. 소각할 주식의 종류와 수','보통주식 (주)'),2]\n",
      "C:\\Users\\exp202207\\AppData\\Local\\Temp\\ipykernel_3528\\2251890180.py:96: PerformanceWarning: indexing past lexsort depth may impact performance.\n",
      "  prefer_stock=temp_df.loc[('2. 발행주식 총수','종류주식 (주)'),2]\n",
      "C:\\Users\\exp202207\\AppData\\Local\\Temp\\ipykernel_3528\\2251890180.py:97: PerformanceWarning: indexing past lexsort depth may impact performance.\n",
      "  prefer_fire=temp_df.loc[('1. 소각할 주식의 종류와 수','종류주식 (주)'),2]\n"
     ]
    },
    {
     "name": "stdout",
     "output_type": "stream",
     "text": [
      "HTTP Error 404: Not Found\n"
     ]
    },
    {
     "name": "stderr",
     "output_type": "stream",
     "text": [
      "C:\\Users\\exp202207\\AppData\\Local\\Temp\\ipykernel_3528\\2251890180.py:94: PerformanceWarning: indexing past lexsort depth may impact performance.\n",
      "  common_stock=temp_df.loc[('2. 발행주식 총수','보통주식 (주)'),2]\n",
      "C:\\Users\\exp202207\\AppData\\Local\\Temp\\ipykernel_3528\\2251890180.py:95: PerformanceWarning: indexing past lexsort depth may impact performance.\n",
      "  common_fire=temp_df.loc[('1. 소각할 주식의 종류와 수','보통주식 (주)'),2]\n",
      "C:\\Users\\exp202207\\AppData\\Local\\Temp\\ipykernel_3528\\2251890180.py:96: PerformanceWarning: indexing past lexsort depth may impact performance.\n",
      "  prefer_stock=temp_df.loc[('2. 발행주식 총수','종류주식 (주)'),2]\n",
      "C:\\Users\\exp202207\\AppData\\Local\\Temp\\ipykernel_3528\\2251890180.py:97: PerformanceWarning: indexing past lexsort depth may impact performance.\n",
      "  prefer_fire=temp_df.loc[('1. 소각할 주식의 종류와 수','종류주식 (주)'),2]\n"
     ]
    },
    {
     "name": "stdout",
     "output_type": "stream",
     "text": [
      "HTTP Error 404: Not Found\n"
     ]
    },
    {
     "name": "stderr",
     "output_type": "stream",
     "text": [
      "C:\\Users\\exp202207\\AppData\\Local\\Temp\\ipykernel_3528\\2251890180.py:94: PerformanceWarning: indexing past lexsort depth may impact performance.\n",
      "  common_stock=temp_df.loc[('2. 발행주식 총수','보통주식 (주)'),2]\n",
      "C:\\Users\\exp202207\\AppData\\Local\\Temp\\ipykernel_3528\\2251890180.py:95: PerformanceWarning: indexing past lexsort depth may impact performance.\n",
      "  common_fire=temp_df.loc[('1. 소각할 주식의 종류와 수','보통주식 (주)'),2]\n",
      "C:\\Users\\exp202207\\AppData\\Local\\Temp\\ipykernel_3528\\2251890180.py:96: PerformanceWarning: indexing past lexsort depth may impact performance.\n",
      "  prefer_stock=temp_df.loc[('2. 발행주식 총수','종류주식 (주)'),2]\n",
      "C:\\Users\\exp202207\\AppData\\Local\\Temp\\ipykernel_3528\\2251890180.py:97: PerformanceWarning: indexing past lexsort depth may impact performance.\n",
      "  prefer_fire=temp_df.loc[('1. 소각할 주식의 종류와 수','종류주식 (주)'),2]\n"
     ]
    },
    {
     "name": "stdout",
     "output_type": "stream",
     "text": [
      "HTTP Error 404: Not Found\n"
     ]
    },
    {
     "name": "stderr",
     "output_type": "stream",
     "text": [
      "C:\\Users\\exp202207\\AppData\\Local\\Temp\\ipykernel_3528\\2251890180.py:94: PerformanceWarning: indexing past lexsort depth may impact performance.\n",
      "  common_stock=temp_df.loc[('2. 발행주식 총수','보통주식 (주)'),2]\n",
      "C:\\Users\\exp202207\\AppData\\Local\\Temp\\ipykernel_3528\\2251890180.py:95: PerformanceWarning: indexing past lexsort depth may impact performance.\n",
      "  common_fire=temp_df.loc[('1. 소각할 주식의 종류와 수','보통주식 (주)'),2]\n",
      "C:\\Users\\exp202207\\AppData\\Local\\Temp\\ipykernel_3528\\2251890180.py:96: PerformanceWarning: indexing past lexsort depth may impact performance.\n",
      "  prefer_stock=temp_df.loc[('2. 발행주식 총수','종류주식 (주)'),2]\n",
      "C:\\Users\\exp202207\\AppData\\Local\\Temp\\ipykernel_3528\\2251890180.py:97: PerformanceWarning: indexing past lexsort depth may impact performance.\n",
      "  prefer_fire=temp_df.loc[('1. 소각할 주식의 종류와 수','종류주식 (주)'),2]\n"
     ]
    },
    {
     "name": "stdout",
     "output_type": "stream",
     "text": [
      "HTTP Error 404: Not Found\n"
     ]
    },
    {
     "name": "stderr",
     "output_type": "stream",
     "text": [
      "C:\\Users\\exp202207\\AppData\\Local\\Temp\\ipykernel_3528\\2251890180.py:94: PerformanceWarning: indexing past lexsort depth may impact performance.\n",
      "  common_stock=temp_df.loc[('2. 발행주식 총수','보통주식 (주)'),2]\n",
      "C:\\Users\\exp202207\\AppData\\Local\\Temp\\ipykernel_3528\\2251890180.py:95: PerformanceWarning: indexing past lexsort depth may impact performance.\n",
      "  common_fire=temp_df.loc[('1. 소각할 주식의 종류와 수','보통주식 (주)'),2]\n",
      "C:\\Users\\exp202207\\AppData\\Local\\Temp\\ipykernel_3528\\2251890180.py:96: PerformanceWarning: indexing past lexsort depth may impact performance.\n",
      "  prefer_stock=temp_df.loc[('2. 발행주식 총수','종류주식 (주)'),2]\n",
      "C:\\Users\\exp202207\\AppData\\Local\\Temp\\ipykernel_3528\\2251890180.py:97: PerformanceWarning: indexing past lexsort depth may impact performance.\n",
      "  prefer_fire=temp_df.loc[('1. 소각할 주식의 종류와 수','종류주식 (주)'),2]\n"
     ]
    },
    {
     "name": "stdout",
     "output_type": "stream",
     "text": [
      "HTTP Error 404: Not Found\n"
     ]
    },
    {
     "name": "stderr",
     "output_type": "stream",
     "text": [
      "C:\\Users\\exp202207\\AppData\\Local\\Temp\\ipykernel_3528\\2251890180.py:94: PerformanceWarning: indexing past lexsort depth may impact performance.\n",
      "  common_stock=temp_df.loc[('2. 발행주식 총수','보통주식 (주)'),2]\n",
      "C:\\Users\\exp202207\\AppData\\Local\\Temp\\ipykernel_3528\\2251890180.py:95: PerformanceWarning: indexing past lexsort depth may impact performance.\n",
      "  common_fire=temp_df.loc[('1. 소각할 주식의 종류와 수','보통주식 (주)'),2]\n",
      "C:\\Users\\exp202207\\AppData\\Local\\Temp\\ipykernel_3528\\2251890180.py:96: PerformanceWarning: indexing past lexsort depth may impact performance.\n",
      "  prefer_stock=temp_df.loc[('2. 발행주식 총수','종류주식 (주)'),2]\n",
      "C:\\Users\\exp202207\\AppData\\Local\\Temp\\ipykernel_3528\\2251890180.py:97: PerformanceWarning: indexing past lexsort depth may impact performance.\n",
      "  prefer_fire=temp_df.loc[('1. 소각할 주식의 종류와 수','종류주식 (주)'),2]\n"
     ]
    },
    {
     "name": "stdout",
     "output_type": "stream",
     "text": [
      "HTTP Error 404: Not Found\n"
     ]
    },
    {
     "name": "stderr",
     "output_type": "stream",
     "text": [
      "C:\\Users\\exp202207\\AppData\\Local\\Temp\\ipykernel_3528\\2251890180.py:94: PerformanceWarning: indexing past lexsort depth may impact performance.\n",
      "  common_stock=temp_df.loc[('2. 발행주식 총수','보통주식 (주)'),2]\n",
      "C:\\Users\\exp202207\\AppData\\Local\\Temp\\ipykernel_3528\\2251890180.py:95: PerformanceWarning: indexing past lexsort depth may impact performance.\n",
      "  common_fire=temp_df.loc[('1. 소각할 주식의 종류와 수','보통주식 (주)'),2]\n",
      "C:\\Users\\exp202207\\AppData\\Local\\Temp\\ipykernel_3528\\2251890180.py:96: PerformanceWarning: indexing past lexsort depth may impact performance.\n",
      "  prefer_stock=temp_df.loc[('2. 발행주식 총수','종류주식 (주)'),2]\n",
      "C:\\Users\\exp202207\\AppData\\Local\\Temp\\ipykernel_3528\\2251890180.py:97: PerformanceWarning: indexing past lexsort depth may impact performance.\n",
      "  prefer_fire=temp_df.loc[('1. 소각할 주식의 종류와 수','종류주식 (주)'),2]\n"
     ]
    },
    {
     "name": "stdout",
     "output_type": "stream",
     "text": [
      "HTTP Error 404: Not Found\n"
     ]
    },
    {
     "name": "stderr",
     "output_type": "stream",
     "text": [
      "C:\\Users\\exp202207\\AppData\\Local\\Temp\\ipykernel_3528\\2251890180.py:94: PerformanceWarning: indexing past lexsort depth may impact performance.\n",
      "  common_stock=temp_df.loc[('2. 발행주식 총수','보통주식 (주)'),2]\n",
      "C:\\Users\\exp202207\\AppData\\Local\\Temp\\ipykernel_3528\\2251890180.py:95: PerformanceWarning: indexing past lexsort depth may impact performance.\n",
      "  common_fire=temp_df.loc[('1. 소각할 주식의 종류와 수','보통주식 (주)'),2]\n",
      "C:\\Users\\exp202207\\AppData\\Local\\Temp\\ipykernel_3528\\2251890180.py:96: PerformanceWarning: indexing past lexsort depth may impact performance.\n",
      "  prefer_stock=temp_df.loc[('2. 발행주식 총수','종류주식 (주)'),2]\n",
      "C:\\Users\\exp202207\\AppData\\Local\\Temp\\ipykernel_3528\\2251890180.py:97: PerformanceWarning: indexing past lexsort depth may impact performance.\n",
      "  prefer_fire=temp_df.loc[('1. 소각할 주식의 종류와 수','종류주식 (주)'),2]\n"
     ]
    },
    {
     "name": "stdout",
     "output_type": "stream",
     "text": [
      "HTTP Error 404: Not Found\n"
     ]
    },
    {
     "name": "stderr",
     "output_type": "stream",
     "text": [
      "C:\\Users\\exp202207\\AppData\\Local\\Temp\\ipykernel_3528\\2251890180.py:94: PerformanceWarning: indexing past lexsort depth may impact performance.\n",
      "  common_stock=temp_df.loc[('2. 발행주식 총수','보통주식 (주)'),2]\n",
      "C:\\Users\\exp202207\\AppData\\Local\\Temp\\ipykernel_3528\\2251890180.py:95: PerformanceWarning: indexing past lexsort depth may impact performance.\n",
      "  common_fire=temp_df.loc[('1. 소각할 주식의 종류와 수','보통주식 (주)'),2]\n",
      "C:\\Users\\exp202207\\AppData\\Local\\Temp\\ipykernel_3528\\2251890180.py:96: PerformanceWarning: indexing past lexsort depth may impact performance.\n",
      "  prefer_stock=temp_df.loc[('2. 발행주식 총수','종류주식 (주)'),2]\n",
      "C:\\Users\\exp202207\\AppData\\Local\\Temp\\ipykernel_3528\\2251890180.py:97: PerformanceWarning: indexing past lexsort depth may impact performance.\n",
      "  prefer_fire=temp_df.loc[('1. 소각할 주식의 종류와 수','종류주식 (주)'),2]\n"
     ]
    },
    {
     "name": "stdout",
     "output_type": "stream",
     "text": [
      "HTTP Error 404: Not Found\n"
     ]
    },
    {
     "name": "stderr",
     "output_type": "stream",
     "text": [
      "C:\\Users\\exp202207\\AppData\\Local\\Temp\\ipykernel_3528\\2251890180.py:94: PerformanceWarning: indexing past lexsort depth may impact performance.\n",
      "  common_stock=temp_df.loc[('2. 발행주식 총수','보통주식 (주)'),2]\n",
      "C:\\Users\\exp202207\\AppData\\Local\\Temp\\ipykernel_3528\\2251890180.py:95: PerformanceWarning: indexing past lexsort depth may impact performance.\n",
      "  common_fire=temp_df.loc[('1. 소각할 주식의 종류와 수','보통주식 (주)'),2]\n",
      "C:\\Users\\exp202207\\AppData\\Local\\Temp\\ipykernel_3528\\2251890180.py:96: PerformanceWarning: indexing past lexsort depth may impact performance.\n",
      "  prefer_stock=temp_df.loc[('2. 발행주식 총수','종류주식 (주)'),2]\n",
      "C:\\Users\\exp202207\\AppData\\Local\\Temp\\ipykernel_3528\\2251890180.py:97: PerformanceWarning: indexing past lexsort depth may impact performance.\n",
      "  prefer_fire=temp_df.loc[('1. 소각할 주식의 종류와 수','종류주식 (주)'),2]\n"
     ]
    },
    {
     "name": "stdout",
     "output_type": "stream",
     "text": [
      "HTTP Error 404: Not Found\n"
     ]
    },
    {
     "name": "stderr",
     "output_type": "stream",
     "text": [
      "C:\\Users\\exp202207\\AppData\\Local\\Temp\\ipykernel_3528\\2251890180.py:94: PerformanceWarning: indexing past lexsort depth may impact performance.\n",
      "  common_stock=temp_df.loc[('2. 발행주식 총수','보통주식 (주)'),2]\n",
      "C:\\Users\\exp202207\\AppData\\Local\\Temp\\ipykernel_3528\\2251890180.py:95: PerformanceWarning: indexing past lexsort depth may impact performance.\n",
      "  common_fire=temp_df.loc[('1. 소각할 주식의 종류와 수','보통주식 (주)'),2]\n",
      "C:\\Users\\exp202207\\AppData\\Local\\Temp\\ipykernel_3528\\2251890180.py:96: PerformanceWarning: indexing past lexsort depth may impact performance.\n",
      "  prefer_stock=temp_df.loc[('2. 발행주식 총수','종류주식 (주)'),2]\n",
      "C:\\Users\\exp202207\\AppData\\Local\\Temp\\ipykernel_3528\\2251890180.py:97: PerformanceWarning: indexing past lexsort depth may impact performance.\n",
      "  prefer_fire=temp_df.loc[('1. 소각할 주식의 종류와 수','종류주식 (주)'),2]\n"
     ]
    },
    {
     "name": "stdout",
     "output_type": "stream",
     "text": [
      "HTTP Error 404: Not Found\n"
     ]
    },
    {
     "name": "stderr",
     "output_type": "stream",
     "text": [
      "C:\\Users\\exp202207\\AppData\\Local\\Temp\\ipykernel_3528\\2251890180.py:94: PerformanceWarning: indexing past lexsort depth may impact performance.\n",
      "  common_stock=temp_df.loc[('2. 발행주식 총수','보통주식 (주)'),2]\n",
      "C:\\Users\\exp202207\\AppData\\Local\\Temp\\ipykernel_3528\\2251890180.py:95: PerformanceWarning: indexing past lexsort depth may impact performance.\n",
      "  common_fire=temp_df.loc[('1. 소각할 주식의 종류와 수','보통주식 (주)'),2]\n",
      "C:\\Users\\exp202207\\AppData\\Local\\Temp\\ipykernel_3528\\2251890180.py:96: PerformanceWarning: indexing past lexsort depth may impact performance.\n",
      "  prefer_stock=temp_df.loc[('2. 발행주식 총수','종류주식 (주)'),2]\n",
      "C:\\Users\\exp202207\\AppData\\Local\\Temp\\ipykernel_3528\\2251890180.py:97: PerformanceWarning: indexing past lexsort depth may impact performance.\n",
      "  prefer_fire=temp_df.loc[('1. 소각할 주식의 종류와 수','종류주식 (주)'),2]\n"
     ]
    },
    {
     "name": "stdout",
     "output_type": "stream",
     "text": [
      "HTTP Error 404: Not Found\n"
     ]
    },
    {
     "name": "stderr",
     "output_type": "stream",
     "text": [
      "C:\\Users\\exp202207\\AppData\\Local\\Temp\\ipykernel_3528\\2251890180.py:94: PerformanceWarning: indexing past lexsort depth may impact performance.\n",
      "  common_stock=temp_df.loc[('2. 발행주식 총수','보통주식 (주)'),2]\n",
      "C:\\Users\\exp202207\\AppData\\Local\\Temp\\ipykernel_3528\\2251890180.py:95: PerformanceWarning: indexing past lexsort depth may impact performance.\n",
      "  common_fire=temp_df.loc[('1. 소각할 주식의 종류와 수','보통주식 (주)'),2]\n",
      "C:\\Users\\exp202207\\AppData\\Local\\Temp\\ipykernel_3528\\2251890180.py:96: PerformanceWarning: indexing past lexsort depth may impact performance.\n",
      "  prefer_stock=temp_df.loc[('2. 발행주식 총수','종류주식 (주)'),2]\n",
      "C:\\Users\\exp202207\\AppData\\Local\\Temp\\ipykernel_3528\\2251890180.py:97: PerformanceWarning: indexing past lexsort depth may impact performance.\n",
      "  prefer_fire=temp_df.loc[('1. 소각할 주식의 종류와 수','종류주식 (주)'),2]\n"
     ]
    },
    {
     "name": "stdout",
     "output_type": "stream",
     "text": [
      "HTTP Error 404: Not Found\n"
     ]
    },
    {
     "name": "stderr",
     "output_type": "stream",
     "text": [
      "C:\\Users\\exp202207\\AppData\\Local\\Temp\\ipykernel_3528\\2251890180.py:94: PerformanceWarning: indexing past lexsort depth may impact performance.\n",
      "  common_stock=temp_df.loc[('2. 발행주식 총수','보통주식 (주)'),2]\n",
      "C:\\Users\\exp202207\\AppData\\Local\\Temp\\ipykernel_3528\\2251890180.py:95: PerformanceWarning: indexing past lexsort depth may impact performance.\n",
      "  common_fire=temp_df.loc[('1. 소각할 주식의 종류와 수','보통주식 (주)'),2]\n",
      "C:\\Users\\exp202207\\AppData\\Local\\Temp\\ipykernel_3528\\2251890180.py:96: PerformanceWarning: indexing past lexsort depth may impact performance.\n",
      "  prefer_stock=temp_df.loc[('2. 발행주식 총수','종류주식 (주)'),2]\n",
      "C:\\Users\\exp202207\\AppData\\Local\\Temp\\ipykernel_3528\\2251890180.py:97: PerformanceWarning: indexing past lexsort depth may impact performance.\n",
      "  prefer_fire=temp_df.loc[('1. 소각할 주식의 종류와 수','종류주식 (주)'),2]\n"
     ]
    },
    {
     "name": "stdout",
     "output_type": "stream",
     "text": [
      "HTTP Error 404: Not Found\n"
     ]
    },
    {
     "name": "stderr",
     "output_type": "stream",
     "text": [
      "C:\\Users\\exp202207\\AppData\\Local\\Temp\\ipykernel_3528\\2251890180.py:94: PerformanceWarning: indexing past lexsort depth may impact performance.\n",
      "  common_stock=temp_df.loc[('2. 발행주식 총수','보통주식 (주)'),2]\n",
      "C:\\Users\\exp202207\\AppData\\Local\\Temp\\ipykernel_3528\\2251890180.py:95: PerformanceWarning: indexing past lexsort depth may impact performance.\n",
      "  common_fire=temp_df.loc[('1. 소각할 주식의 종류와 수','보통주식 (주)'),2]\n",
      "C:\\Users\\exp202207\\AppData\\Local\\Temp\\ipykernel_3528\\2251890180.py:96: PerformanceWarning: indexing past lexsort depth may impact performance.\n",
      "  prefer_stock=temp_df.loc[('2. 발행주식 총수','종류주식 (주)'),2]\n",
      "C:\\Users\\exp202207\\AppData\\Local\\Temp\\ipykernel_3528\\2251890180.py:97: PerformanceWarning: indexing past lexsort depth may impact performance.\n",
      "  prefer_fire=temp_df.loc[('1. 소각할 주식의 종류와 수','종류주식 (주)'),2]\n"
     ]
    },
    {
     "name": "stdout",
     "output_type": "stream",
     "text": [
      "HTTP Error 404: Not Found\n"
     ]
    },
    {
     "name": "stderr",
     "output_type": "stream",
     "text": [
      "C:\\Users\\exp202207\\AppData\\Local\\Temp\\ipykernel_3528\\2251890180.py:94: PerformanceWarning: indexing past lexsort depth may impact performance.\n",
      "  common_stock=temp_df.loc[('2. 발행주식 총수','보통주식 (주)'),2]\n",
      "C:\\Users\\exp202207\\AppData\\Local\\Temp\\ipykernel_3528\\2251890180.py:95: PerformanceWarning: indexing past lexsort depth may impact performance.\n",
      "  common_fire=temp_df.loc[('1. 소각할 주식의 종류와 수','보통주식 (주)'),2]\n",
      "C:\\Users\\exp202207\\AppData\\Local\\Temp\\ipykernel_3528\\2251890180.py:96: PerformanceWarning: indexing past lexsort depth may impact performance.\n",
      "  prefer_stock=temp_df.loc[('2. 발행주식 총수','종류주식 (주)'),2]\n",
      "C:\\Users\\exp202207\\AppData\\Local\\Temp\\ipykernel_3528\\2251890180.py:97: PerformanceWarning: indexing past lexsort depth may impact performance.\n",
      "  prefer_fire=temp_df.loc[('1. 소각할 주식의 종류와 수','종류주식 (주)'),2]\n"
     ]
    },
    {
     "name": "stdout",
     "output_type": "stream",
     "text": [
      "HTTP Error 404: Not Found\n"
     ]
    },
    {
     "name": "stderr",
     "output_type": "stream",
     "text": [
      "C:\\Users\\exp202207\\AppData\\Local\\Temp\\ipykernel_3528\\2251890180.py:94: PerformanceWarning: indexing past lexsort depth may impact performance.\n",
      "  common_stock=temp_df.loc[('2. 발행주식 총수','보통주식 (주)'),2]\n",
      "C:\\Users\\exp202207\\AppData\\Local\\Temp\\ipykernel_3528\\2251890180.py:95: PerformanceWarning: indexing past lexsort depth may impact performance.\n",
      "  common_fire=temp_df.loc[('1. 소각할 주식의 종류와 수','보통주식 (주)'),2]\n",
      "C:\\Users\\exp202207\\AppData\\Local\\Temp\\ipykernel_3528\\2251890180.py:96: PerformanceWarning: indexing past lexsort depth may impact performance.\n",
      "  prefer_stock=temp_df.loc[('2. 발행주식 총수','종류주식 (주)'),2]\n",
      "C:\\Users\\exp202207\\AppData\\Local\\Temp\\ipykernel_3528\\2251890180.py:97: PerformanceWarning: indexing past lexsort depth may impact performance.\n",
      "  prefer_fire=temp_df.loc[('1. 소각할 주식의 종류와 수','종류주식 (주)'),2]\n"
     ]
    },
    {
     "name": "stdout",
     "output_type": "stream",
     "text": [
      "HTTP Error 404: Not Found\n",
      "('2. 발행주식 총수', '보통주식 (주)')\n"
     ]
    },
    {
     "name": "stderr",
     "output_type": "stream",
     "text": [
      "C:\\Users\\exp202207\\AppData\\Local\\Temp\\ipykernel_3528\\2251890180.py:94: PerformanceWarning: indexing past lexsort depth may impact performance.\n",
      "  common_stock=temp_df.loc[('2. 발행주식 총수','보통주식 (주)'),2]\n",
      "C:\\Users\\exp202207\\AppData\\Local\\Temp\\ipykernel_3528\\2251890180.py:95: PerformanceWarning: indexing past lexsort depth may impact performance.\n",
      "  common_fire=temp_df.loc[('1. 소각할 주식의 종류와 수','보통주식 (주)'),2]\n",
      "C:\\Users\\exp202207\\AppData\\Local\\Temp\\ipykernel_3528\\2251890180.py:96: PerformanceWarning: indexing past lexsort depth may impact performance.\n",
      "  prefer_stock=temp_df.loc[('2. 발행주식 총수','종류주식 (주)'),2]\n",
      "C:\\Users\\exp202207\\AppData\\Local\\Temp\\ipykernel_3528\\2251890180.py:97: PerformanceWarning: indexing past lexsort depth may impact performance.\n",
      "  prefer_fire=temp_df.loc[('1. 소각할 주식의 종류와 수','종류주식 (주)'),2]\n"
     ]
    },
    {
     "name": "stdout",
     "output_type": "stream",
     "text": [
      "HTTP Error 404: Not Found\n"
     ]
    },
    {
     "name": "stderr",
     "output_type": "stream",
     "text": [
      "C:\\Users\\exp202207\\AppData\\Local\\Temp\\ipykernel_3528\\2251890180.py:94: PerformanceWarning: indexing past lexsort depth may impact performance.\n",
      "  common_stock=temp_df.loc[('2. 발행주식 총수','보통주식 (주)'),2]\n",
      "C:\\Users\\exp202207\\AppData\\Local\\Temp\\ipykernel_3528\\2251890180.py:95: PerformanceWarning: indexing past lexsort depth may impact performance.\n",
      "  common_fire=temp_df.loc[('1. 소각할 주식의 종류와 수','보통주식 (주)'),2]\n",
      "C:\\Users\\exp202207\\AppData\\Local\\Temp\\ipykernel_3528\\2251890180.py:96: PerformanceWarning: indexing past lexsort depth may impact performance.\n",
      "  prefer_stock=temp_df.loc[('2. 발행주식 총수','종류주식 (주)'),2]\n",
      "C:\\Users\\exp202207\\AppData\\Local\\Temp\\ipykernel_3528\\2251890180.py:97: PerformanceWarning: indexing past lexsort depth may impact performance.\n",
      "  prefer_fire=temp_df.loc[('1. 소각할 주식의 종류와 수','종류주식 (주)'),2]\n"
     ]
    },
    {
     "name": "stdout",
     "output_type": "stream",
     "text": [
      "HTTP Error 404: Not Found\n"
     ]
    },
    {
     "name": "stderr",
     "output_type": "stream",
     "text": [
      "C:\\Users\\exp202207\\AppData\\Local\\Temp\\ipykernel_3528\\2251890180.py:94: PerformanceWarning: indexing past lexsort depth may impact performance.\n",
      "  common_stock=temp_df.loc[('2. 발행주식 총수','보통주식 (주)'),2]\n",
      "C:\\Users\\exp202207\\AppData\\Local\\Temp\\ipykernel_3528\\2251890180.py:95: PerformanceWarning: indexing past lexsort depth may impact performance.\n",
      "  common_fire=temp_df.loc[('1. 소각할 주식의 종류와 수','보통주식 (주)'),2]\n",
      "C:\\Users\\exp202207\\AppData\\Local\\Temp\\ipykernel_3528\\2251890180.py:96: PerformanceWarning: indexing past lexsort depth may impact performance.\n",
      "  prefer_stock=temp_df.loc[('2. 발행주식 총수','종류주식 (주)'),2]\n",
      "C:\\Users\\exp202207\\AppData\\Local\\Temp\\ipykernel_3528\\2251890180.py:97: PerformanceWarning: indexing past lexsort depth may impact performance.\n",
      "  prefer_fire=temp_df.loc[('1. 소각할 주식의 종류와 수','종류주식 (주)'),2]\n"
     ]
    },
    {
     "name": "stdout",
     "output_type": "stream",
     "text": [
      "HTTP Error 404: Not Found\n"
     ]
    },
    {
     "name": "stderr",
     "output_type": "stream",
     "text": [
      "C:\\Users\\exp202207\\AppData\\Local\\Temp\\ipykernel_3528\\2251890180.py:94: PerformanceWarning: indexing past lexsort depth may impact performance.\n",
      "  common_stock=temp_df.loc[('2. 발행주식 총수','보통주식 (주)'),2]\n",
      "C:\\Users\\exp202207\\AppData\\Local\\Temp\\ipykernel_3528\\2251890180.py:95: PerformanceWarning: indexing past lexsort depth may impact performance.\n",
      "  common_fire=temp_df.loc[('1. 소각할 주식의 종류와 수','보통주식 (주)'),2]\n",
      "C:\\Users\\exp202207\\AppData\\Local\\Temp\\ipykernel_3528\\2251890180.py:96: PerformanceWarning: indexing past lexsort depth may impact performance.\n",
      "  prefer_stock=temp_df.loc[('2. 발행주식 총수','종류주식 (주)'),2]\n",
      "C:\\Users\\exp202207\\AppData\\Local\\Temp\\ipykernel_3528\\2251890180.py:97: PerformanceWarning: indexing past lexsort depth may impact performance.\n",
      "  prefer_fire=temp_df.loc[('1. 소각할 주식의 종류와 수','종류주식 (주)'),2]\n"
     ]
    },
    {
     "name": "stdout",
     "output_type": "stream",
     "text": [
      "HTTP Error 404: Not Found\n"
     ]
    },
    {
     "name": "stderr",
     "output_type": "stream",
     "text": [
      "C:\\Users\\exp202207\\AppData\\Local\\Temp\\ipykernel_3528\\2251890180.py:94: PerformanceWarning: indexing past lexsort depth may impact performance.\n",
      "  common_stock=temp_df.loc[('2. 발행주식 총수','보통주식 (주)'),2]\n",
      "C:\\Users\\exp202207\\AppData\\Local\\Temp\\ipykernel_3528\\2251890180.py:95: PerformanceWarning: indexing past lexsort depth may impact performance.\n",
      "  common_fire=temp_df.loc[('1. 소각할 주식의 종류와 수','보통주식 (주)'),2]\n",
      "C:\\Users\\exp202207\\AppData\\Local\\Temp\\ipykernel_3528\\2251890180.py:96: PerformanceWarning: indexing past lexsort depth may impact performance.\n",
      "  prefer_stock=temp_df.loc[('2. 발행주식 총수','종류주식 (주)'),2]\n",
      "C:\\Users\\exp202207\\AppData\\Local\\Temp\\ipykernel_3528\\2251890180.py:97: PerformanceWarning: indexing past lexsort depth may impact performance.\n",
      "  prefer_fire=temp_df.loc[('1. 소각할 주식의 종류와 수','종류주식 (주)'),2]\n"
     ]
    },
    {
     "name": "stdout",
     "output_type": "stream",
     "text": [
      "HTTP Error 404: Not Found\n"
     ]
    },
    {
     "name": "stderr",
     "output_type": "stream",
     "text": [
      "C:\\Users\\exp202207\\AppData\\Local\\Temp\\ipykernel_3528\\2251890180.py:94: PerformanceWarning: indexing past lexsort depth may impact performance.\n",
      "  common_stock=temp_df.loc[('2. 발행주식 총수','보통주식 (주)'),2]\n",
      "C:\\Users\\exp202207\\AppData\\Local\\Temp\\ipykernel_3528\\2251890180.py:95: PerformanceWarning: indexing past lexsort depth may impact performance.\n",
      "  common_fire=temp_df.loc[('1. 소각할 주식의 종류와 수','보통주식 (주)'),2]\n",
      "C:\\Users\\exp202207\\AppData\\Local\\Temp\\ipykernel_3528\\2251890180.py:96: PerformanceWarning: indexing past lexsort depth may impact performance.\n",
      "  prefer_stock=temp_df.loc[('2. 발행주식 총수','종류주식 (주)'),2]\n",
      "C:\\Users\\exp202207\\AppData\\Local\\Temp\\ipykernel_3528\\2251890180.py:97: PerformanceWarning: indexing past lexsort depth may impact performance.\n",
      "  prefer_fire=temp_df.loc[('1. 소각할 주식의 종류와 수','종류주식 (주)'),2]\n"
     ]
    },
    {
     "name": "stdout",
     "output_type": "stream",
     "text": [
      "HTTP Error 404: Not Found\n"
     ]
    },
    {
     "name": "stderr",
     "output_type": "stream",
     "text": [
      "C:\\Users\\exp202207\\AppData\\Local\\Temp\\ipykernel_3528\\2251890180.py:94: PerformanceWarning: indexing past lexsort depth may impact performance.\n",
      "  common_stock=temp_df.loc[('2. 발행주식 총수','보통주식 (주)'),2]\n",
      "C:\\Users\\exp202207\\AppData\\Local\\Temp\\ipykernel_3528\\2251890180.py:95: PerformanceWarning: indexing past lexsort depth may impact performance.\n",
      "  common_fire=temp_df.loc[('1. 소각할 주식의 종류와 수','보통주식 (주)'),2]\n",
      "C:\\Users\\exp202207\\AppData\\Local\\Temp\\ipykernel_3528\\2251890180.py:96: PerformanceWarning: indexing past lexsort depth may impact performance.\n",
      "  prefer_stock=temp_df.loc[('2. 발행주식 총수','종류주식 (주)'),2]\n",
      "C:\\Users\\exp202207\\AppData\\Local\\Temp\\ipykernel_3528\\2251890180.py:97: PerformanceWarning: indexing past lexsort depth may impact performance.\n",
      "  prefer_fire=temp_df.loc[('1. 소각할 주식의 종류와 수','종류주식 (주)'),2]\n"
     ]
    },
    {
     "name": "stdout",
     "output_type": "stream",
     "text": [
      "HTTP Error 404: Not Found\n"
     ]
    },
    {
     "name": "stderr",
     "output_type": "stream",
     "text": [
      "C:\\Users\\exp202207\\AppData\\Local\\Temp\\ipykernel_3528\\2251890180.py:94: PerformanceWarning: indexing past lexsort depth may impact performance.\n",
      "  common_stock=temp_df.loc[('2. 발행주식 총수','보통주식 (주)'),2]\n",
      "C:\\Users\\exp202207\\AppData\\Local\\Temp\\ipykernel_3528\\2251890180.py:95: PerformanceWarning: indexing past lexsort depth may impact performance.\n",
      "  common_fire=temp_df.loc[('1. 소각할 주식의 종류와 수','보통주식 (주)'),2]\n",
      "C:\\Users\\exp202207\\AppData\\Local\\Temp\\ipykernel_3528\\2251890180.py:96: PerformanceWarning: indexing past lexsort depth may impact performance.\n",
      "  prefer_stock=temp_df.loc[('2. 발행주식 총수','종류주식 (주)'),2]\n",
      "C:\\Users\\exp202207\\AppData\\Local\\Temp\\ipykernel_3528\\2251890180.py:97: PerformanceWarning: indexing past lexsort depth may impact performance.\n",
      "  prefer_fire=temp_df.loc[('1. 소각할 주식의 종류와 수','종류주식 (주)'),2]\n"
     ]
    },
    {
     "name": "stdout",
     "output_type": "stream",
     "text": [
      "HTTP Error 404: Not Found\n"
     ]
    },
    {
     "name": "stderr",
     "output_type": "stream",
     "text": [
      "C:\\Users\\exp202207\\AppData\\Local\\Temp\\ipykernel_3528\\2251890180.py:94: PerformanceWarning: indexing past lexsort depth may impact performance.\n",
      "  common_stock=temp_df.loc[('2. 발행주식 총수','보통주식 (주)'),2]\n",
      "C:\\Users\\exp202207\\AppData\\Local\\Temp\\ipykernel_3528\\2251890180.py:95: PerformanceWarning: indexing past lexsort depth may impact performance.\n",
      "  common_fire=temp_df.loc[('1. 소각할 주식의 종류와 수','보통주식 (주)'),2]\n",
      "C:\\Users\\exp202207\\AppData\\Local\\Temp\\ipykernel_3528\\2251890180.py:96: PerformanceWarning: indexing past lexsort depth may impact performance.\n",
      "  prefer_stock=temp_df.loc[('2. 발행주식 총수','종류주식 (주)'),2]\n",
      "C:\\Users\\exp202207\\AppData\\Local\\Temp\\ipykernel_3528\\2251890180.py:97: PerformanceWarning: indexing past lexsort depth may impact performance.\n",
      "  prefer_fire=temp_df.loc[('1. 소각할 주식의 종류와 수','종류주식 (주)'),2]\n"
     ]
    },
    {
     "name": "stdout",
     "output_type": "stream",
     "text": [
      "HTTP Error 404: Not Found\n"
     ]
    },
    {
     "name": "stderr",
     "output_type": "stream",
     "text": [
      "C:\\Users\\exp202207\\AppData\\Local\\Temp\\ipykernel_3528\\2251890180.py:94: PerformanceWarning: indexing past lexsort depth may impact performance.\n",
      "  common_stock=temp_df.loc[('2. 발행주식 총수','보통주식 (주)'),2]\n",
      "C:\\Users\\exp202207\\AppData\\Local\\Temp\\ipykernel_3528\\2251890180.py:95: PerformanceWarning: indexing past lexsort depth may impact performance.\n",
      "  common_fire=temp_df.loc[('1. 소각할 주식의 종류와 수','보통주식 (주)'),2]\n",
      "C:\\Users\\exp202207\\AppData\\Local\\Temp\\ipykernel_3528\\2251890180.py:96: PerformanceWarning: indexing past lexsort depth may impact performance.\n",
      "  prefer_stock=temp_df.loc[('2. 발행주식 총수','종류주식 (주)'),2]\n",
      "C:\\Users\\exp202207\\AppData\\Local\\Temp\\ipykernel_3528\\2251890180.py:97: PerformanceWarning: indexing past lexsort depth may impact performance.\n",
      "  prefer_fire=temp_df.loc[('1. 소각할 주식의 종류와 수','종류주식 (주)'),2]\n"
     ]
    },
    {
     "name": "stdout",
     "output_type": "stream",
     "text": [
      "HTTP Error 404: Not Found\n"
     ]
    },
    {
     "name": "stderr",
     "output_type": "stream",
     "text": [
      "C:\\Users\\exp202207\\AppData\\Local\\Temp\\ipykernel_3528\\2251890180.py:94: PerformanceWarning: indexing past lexsort depth may impact performance.\n",
      "  common_stock=temp_df.loc[('2. 발행주식 총수','보통주식 (주)'),2]\n",
      "C:\\Users\\exp202207\\AppData\\Local\\Temp\\ipykernel_3528\\2251890180.py:95: PerformanceWarning: indexing past lexsort depth may impact performance.\n",
      "  common_fire=temp_df.loc[('1. 소각할 주식의 종류와 수','보통주식 (주)'),2]\n",
      "C:\\Users\\exp202207\\AppData\\Local\\Temp\\ipykernel_3528\\2251890180.py:96: PerformanceWarning: indexing past lexsort depth may impact performance.\n",
      "  prefer_stock=temp_df.loc[('2. 발행주식 총수','종류주식 (주)'),2]\n",
      "C:\\Users\\exp202207\\AppData\\Local\\Temp\\ipykernel_3528\\2251890180.py:97: PerformanceWarning: indexing past lexsort depth may impact performance.\n",
      "  prefer_fire=temp_df.loc[('1. 소각할 주식의 종류와 수','종류주식 (주)'),2]\n"
     ]
    },
    {
     "name": "stdout",
     "output_type": "stream",
     "text": [
      "HTTP Error 404: Not Found\n"
     ]
    },
    {
     "name": "stderr",
     "output_type": "stream",
     "text": [
      "C:\\Users\\exp202207\\AppData\\Local\\Temp\\ipykernel_3528\\2251890180.py:94: PerformanceWarning: indexing past lexsort depth may impact performance.\n",
      "  common_stock=temp_df.loc[('2. 발행주식 총수','보통주식 (주)'),2]\n",
      "C:\\Users\\exp202207\\AppData\\Local\\Temp\\ipykernel_3528\\2251890180.py:95: PerformanceWarning: indexing past lexsort depth may impact performance.\n",
      "  common_fire=temp_df.loc[('1. 소각할 주식의 종류와 수','보통주식 (주)'),2]\n",
      "C:\\Users\\exp202207\\AppData\\Local\\Temp\\ipykernel_3528\\2251890180.py:96: PerformanceWarning: indexing past lexsort depth may impact performance.\n",
      "  prefer_stock=temp_df.loc[('2. 발행주식 총수','종류주식 (주)'),2]\n",
      "C:\\Users\\exp202207\\AppData\\Local\\Temp\\ipykernel_3528\\2251890180.py:97: PerformanceWarning: indexing past lexsort depth may impact performance.\n",
      "  prefer_fire=temp_df.loc[('1. 소각할 주식의 종류와 수','종류주식 (주)'),2]\n"
     ]
    },
    {
     "name": "stdout",
     "output_type": "stream",
     "text": [
      "HTTP Error 404: Not Found\n",
      "('2. 발행주식 총수', '보통주식 (주)')\n"
     ]
    },
    {
     "name": "stderr",
     "output_type": "stream",
     "text": [
      "C:\\Users\\exp202207\\AppData\\Local\\Temp\\ipykernel_3528\\2251890180.py:94: PerformanceWarning: indexing past lexsort depth may impact performance.\n",
      "  common_stock=temp_df.loc[('2. 발행주식 총수','보통주식 (주)'),2]\n",
      "C:\\Users\\exp202207\\AppData\\Local\\Temp\\ipykernel_3528\\2251890180.py:95: PerformanceWarning: indexing past lexsort depth may impact performance.\n",
      "  common_fire=temp_df.loc[('1. 소각할 주식의 종류와 수','보통주식 (주)'),2]\n",
      "C:\\Users\\exp202207\\AppData\\Local\\Temp\\ipykernel_3528\\2251890180.py:96: PerformanceWarning: indexing past lexsort depth may impact performance.\n",
      "  prefer_stock=temp_df.loc[('2. 발행주식 총수','종류주식 (주)'),2]\n",
      "C:\\Users\\exp202207\\AppData\\Local\\Temp\\ipykernel_3528\\2251890180.py:97: PerformanceWarning: indexing past lexsort depth may impact performance.\n",
      "  prefer_fire=temp_df.loc[('1. 소각할 주식의 종류와 수','종류주식 (주)'),2]\n"
     ]
    },
    {
     "name": "stdout",
     "output_type": "stream",
     "text": [
      "HTTP Error 404: Not Found\n"
     ]
    },
    {
     "name": "stderr",
     "output_type": "stream",
     "text": [
      "C:\\Users\\exp202207\\AppData\\Local\\Temp\\ipykernel_3528\\2251890180.py:94: PerformanceWarning: indexing past lexsort depth may impact performance.\n",
      "  common_stock=temp_df.loc[('2. 발행주식 총수','보통주식 (주)'),2]\n",
      "C:\\Users\\exp202207\\AppData\\Local\\Temp\\ipykernel_3528\\2251890180.py:95: PerformanceWarning: indexing past lexsort depth may impact performance.\n",
      "  common_fire=temp_df.loc[('1. 소각할 주식의 종류와 수','보통주식 (주)'),2]\n",
      "C:\\Users\\exp202207\\AppData\\Local\\Temp\\ipykernel_3528\\2251890180.py:96: PerformanceWarning: indexing past lexsort depth may impact performance.\n",
      "  prefer_stock=temp_df.loc[('2. 발행주식 총수','종류주식 (주)'),2]\n",
      "C:\\Users\\exp202207\\AppData\\Local\\Temp\\ipykernel_3528\\2251890180.py:97: PerformanceWarning: indexing past lexsort depth may impact performance.\n",
      "  prefer_fire=temp_df.loc[('1. 소각할 주식의 종류와 수','종류주식 (주)'),2]\n"
     ]
    },
    {
     "name": "stdout",
     "output_type": "stream",
     "text": [
      "HTTP Error 404: Not Found\n"
     ]
    },
    {
     "name": "stderr",
     "output_type": "stream",
     "text": [
      "C:\\Users\\exp202207\\AppData\\Local\\Temp\\ipykernel_3528\\2251890180.py:94: PerformanceWarning: indexing past lexsort depth may impact performance.\n",
      "  common_stock=temp_df.loc[('2. 발행주식 총수','보통주식 (주)'),2]\n",
      "C:\\Users\\exp202207\\AppData\\Local\\Temp\\ipykernel_3528\\2251890180.py:95: PerformanceWarning: indexing past lexsort depth may impact performance.\n",
      "  common_fire=temp_df.loc[('1. 소각할 주식의 종류와 수','보통주식 (주)'),2]\n",
      "C:\\Users\\exp202207\\AppData\\Local\\Temp\\ipykernel_3528\\2251890180.py:96: PerformanceWarning: indexing past lexsort depth may impact performance.\n",
      "  prefer_stock=temp_df.loc[('2. 발행주식 총수','종류주식 (주)'),2]\n",
      "C:\\Users\\exp202207\\AppData\\Local\\Temp\\ipykernel_3528\\2251890180.py:97: PerformanceWarning: indexing past lexsort depth may impact performance.\n",
      "  prefer_fire=temp_df.loc[('1. 소각할 주식의 종류와 수','종류주식 (주)'),2]\n"
     ]
    },
    {
     "name": "stdout",
     "output_type": "stream",
     "text": [
      "HTTP Error 404: Not Found\n"
     ]
    },
    {
     "name": "stderr",
     "output_type": "stream",
     "text": [
      "C:\\Users\\exp202207\\AppData\\Local\\Temp\\ipykernel_3528\\2251890180.py:94: PerformanceWarning: indexing past lexsort depth may impact performance.\n",
      "  common_stock=temp_df.loc[('2. 발행주식 총수','보통주식 (주)'),2]\n",
      "C:\\Users\\exp202207\\AppData\\Local\\Temp\\ipykernel_3528\\2251890180.py:95: PerformanceWarning: indexing past lexsort depth may impact performance.\n",
      "  common_fire=temp_df.loc[('1. 소각할 주식의 종류와 수','보통주식 (주)'),2]\n",
      "C:\\Users\\exp202207\\AppData\\Local\\Temp\\ipykernel_3528\\2251890180.py:96: PerformanceWarning: indexing past lexsort depth may impact performance.\n",
      "  prefer_stock=temp_df.loc[('2. 발행주식 총수','종류주식 (주)'),2]\n",
      "C:\\Users\\exp202207\\AppData\\Local\\Temp\\ipykernel_3528\\2251890180.py:97: PerformanceWarning: indexing past lexsort depth may impact performance.\n",
      "  prefer_fire=temp_df.loc[('1. 소각할 주식의 종류와 수','종류주식 (주)'),2]\n"
     ]
    },
    {
     "name": "stdout",
     "output_type": "stream",
     "text": [
      "HTTP Error 404: Not Found\n"
     ]
    },
    {
     "name": "stderr",
     "output_type": "stream",
     "text": [
      "C:\\Users\\exp202207\\AppData\\Local\\Temp\\ipykernel_3528\\2251890180.py:94: PerformanceWarning: indexing past lexsort depth may impact performance.\n",
      "  common_stock=temp_df.loc[('2. 발행주식 총수','보통주식 (주)'),2]\n",
      "C:\\Users\\exp202207\\AppData\\Local\\Temp\\ipykernel_3528\\2251890180.py:95: PerformanceWarning: indexing past lexsort depth may impact performance.\n",
      "  common_fire=temp_df.loc[('1. 소각할 주식의 종류와 수','보통주식 (주)'),2]\n",
      "C:\\Users\\exp202207\\AppData\\Local\\Temp\\ipykernel_3528\\2251890180.py:96: PerformanceWarning: indexing past lexsort depth may impact performance.\n",
      "  prefer_stock=temp_df.loc[('2. 발행주식 총수','종류주식 (주)'),2]\n",
      "C:\\Users\\exp202207\\AppData\\Local\\Temp\\ipykernel_3528\\2251890180.py:97: PerformanceWarning: indexing past lexsort depth may impact performance.\n",
      "  prefer_fire=temp_df.loc[('1. 소각할 주식의 종류와 수','종류주식 (주)'),2]\n"
     ]
    },
    {
     "name": "stdout",
     "output_type": "stream",
     "text": [
      "HTTP Error 404: Not Found\n"
     ]
    },
    {
     "name": "stderr",
     "output_type": "stream",
     "text": [
      "C:\\Users\\exp202207\\AppData\\Local\\Temp\\ipykernel_3528\\2251890180.py:94: PerformanceWarning: indexing past lexsort depth may impact performance.\n",
      "  common_stock=temp_df.loc[('2. 발행주식 총수','보통주식 (주)'),2]\n",
      "C:\\Users\\exp202207\\AppData\\Local\\Temp\\ipykernel_3528\\2251890180.py:95: PerformanceWarning: indexing past lexsort depth may impact performance.\n",
      "  common_fire=temp_df.loc[('1. 소각할 주식의 종류와 수','보통주식 (주)'),2]\n",
      "C:\\Users\\exp202207\\AppData\\Local\\Temp\\ipykernel_3528\\2251890180.py:96: PerformanceWarning: indexing past lexsort depth may impact performance.\n",
      "  prefer_stock=temp_df.loc[('2. 발행주식 총수','종류주식 (주)'),2]\n",
      "C:\\Users\\exp202207\\AppData\\Local\\Temp\\ipykernel_3528\\2251890180.py:97: PerformanceWarning: indexing past lexsort depth may impact performance.\n",
      "  prefer_fire=temp_df.loc[('1. 소각할 주식의 종류와 수','종류주식 (주)'),2]\n"
     ]
    },
    {
     "name": "stdout",
     "output_type": "stream",
     "text": [
      "HTTP Error 404: Not Found\n"
     ]
    },
    {
     "name": "stderr",
     "output_type": "stream",
     "text": [
      "C:\\Users\\exp202207\\AppData\\Local\\Temp\\ipykernel_3528\\2251890180.py:94: PerformanceWarning: indexing past lexsort depth may impact performance.\n",
      "  common_stock=temp_df.loc[('2. 발행주식 총수','보통주식 (주)'),2]\n",
      "C:\\Users\\exp202207\\AppData\\Local\\Temp\\ipykernel_3528\\2251890180.py:95: PerformanceWarning: indexing past lexsort depth may impact performance.\n",
      "  common_fire=temp_df.loc[('1. 소각할 주식의 종류와 수','보통주식 (주)'),2]\n",
      "C:\\Users\\exp202207\\AppData\\Local\\Temp\\ipykernel_3528\\2251890180.py:96: PerformanceWarning: indexing past lexsort depth may impact performance.\n",
      "  prefer_stock=temp_df.loc[('2. 발행주식 총수','종류주식 (주)'),2]\n",
      "C:\\Users\\exp202207\\AppData\\Local\\Temp\\ipykernel_3528\\2251890180.py:97: PerformanceWarning: indexing past lexsort depth may impact performance.\n",
      "  prefer_fire=temp_df.loc[('1. 소각할 주식의 종류와 수','종류주식 (주)'),2]\n"
     ]
    },
    {
     "name": "stdout",
     "output_type": "stream",
     "text": [
      "HTTP Error 404: Not Found\n",
      "('2. 발행주식 총수', '보통주식 (주)')\n"
     ]
    },
    {
     "name": "stderr",
     "output_type": "stream",
     "text": [
      "C:\\Users\\exp202207\\AppData\\Local\\Temp\\ipykernel_3528\\2251890180.py:94: PerformanceWarning: indexing past lexsort depth may impact performance.\n",
      "  common_stock=temp_df.loc[('2. 발행주식 총수','보통주식 (주)'),2]\n",
      "C:\\Users\\exp202207\\AppData\\Local\\Temp\\ipykernel_3528\\2251890180.py:95: PerformanceWarning: indexing past lexsort depth may impact performance.\n",
      "  common_fire=temp_df.loc[('1. 소각할 주식의 종류와 수','보통주식 (주)'),2]\n",
      "C:\\Users\\exp202207\\AppData\\Local\\Temp\\ipykernel_3528\\2251890180.py:96: PerformanceWarning: indexing past lexsort depth may impact performance.\n",
      "  prefer_stock=temp_df.loc[('2. 발행주식 총수','종류주식 (주)'),2]\n",
      "C:\\Users\\exp202207\\AppData\\Local\\Temp\\ipykernel_3528\\2251890180.py:97: PerformanceWarning: indexing past lexsort depth may impact performance.\n",
      "  prefer_fire=temp_df.loc[('1. 소각할 주식의 종류와 수','종류주식 (주)'),2]\n"
     ]
    },
    {
     "name": "stdout",
     "output_type": "stream",
     "text": [
      "HTTP Error 404: Not Found\n"
     ]
    },
    {
     "name": "stderr",
     "output_type": "stream",
     "text": [
      "C:\\Users\\exp202207\\AppData\\Local\\Temp\\ipykernel_3528\\2251890180.py:94: PerformanceWarning: indexing past lexsort depth may impact performance.\n",
      "  common_stock=temp_df.loc[('2. 발행주식 총수','보통주식 (주)'),2]\n",
      "C:\\Users\\exp202207\\AppData\\Local\\Temp\\ipykernel_3528\\2251890180.py:95: PerformanceWarning: indexing past lexsort depth may impact performance.\n",
      "  common_fire=temp_df.loc[('1. 소각할 주식의 종류와 수','보통주식 (주)'),2]\n",
      "C:\\Users\\exp202207\\AppData\\Local\\Temp\\ipykernel_3528\\2251890180.py:96: PerformanceWarning: indexing past lexsort depth may impact performance.\n",
      "  prefer_stock=temp_df.loc[('2. 발행주식 총수','종류주식 (주)'),2]\n",
      "C:\\Users\\exp202207\\AppData\\Local\\Temp\\ipykernel_3528\\2251890180.py:97: PerformanceWarning: indexing past lexsort depth may impact performance.\n",
      "  prefer_fire=temp_df.loc[('1. 소각할 주식의 종류와 수','종류주식 (주)'),2]\n"
     ]
    },
    {
     "name": "stdout",
     "output_type": "stream",
     "text": [
      "HTTP Error 404: Not Found\n"
     ]
    },
    {
     "name": "stderr",
     "output_type": "stream",
     "text": [
      "C:\\Users\\exp202207\\AppData\\Local\\Temp\\ipykernel_3528\\2251890180.py:94: PerformanceWarning: indexing past lexsort depth may impact performance.\n",
      "  common_stock=temp_df.loc[('2. 발행주식 총수','보통주식 (주)'),2]\n",
      "C:\\Users\\exp202207\\AppData\\Local\\Temp\\ipykernel_3528\\2251890180.py:95: PerformanceWarning: indexing past lexsort depth may impact performance.\n",
      "  common_fire=temp_df.loc[('1. 소각할 주식의 종류와 수','보통주식 (주)'),2]\n",
      "C:\\Users\\exp202207\\AppData\\Local\\Temp\\ipykernel_3528\\2251890180.py:96: PerformanceWarning: indexing past lexsort depth may impact performance.\n",
      "  prefer_stock=temp_df.loc[('2. 발행주식 총수','종류주식 (주)'),2]\n",
      "C:\\Users\\exp202207\\AppData\\Local\\Temp\\ipykernel_3528\\2251890180.py:97: PerformanceWarning: indexing past lexsort depth may impact performance.\n",
      "  prefer_fire=temp_df.loc[('1. 소각할 주식의 종류와 수','종류주식 (주)'),2]\n"
     ]
    },
    {
     "name": "stdout",
     "output_type": "stream",
     "text": [
      "HTTP Error 404: Not Found\n"
     ]
    },
    {
     "name": "stderr",
     "output_type": "stream",
     "text": [
      "C:\\Users\\exp202207\\AppData\\Local\\Temp\\ipykernel_3528\\2251890180.py:94: PerformanceWarning: indexing past lexsort depth may impact performance.\n",
      "  common_stock=temp_df.loc[('2. 발행주식 총수','보통주식 (주)'),2]\n",
      "C:\\Users\\exp202207\\AppData\\Local\\Temp\\ipykernel_3528\\2251890180.py:95: PerformanceWarning: indexing past lexsort depth may impact performance.\n",
      "  common_fire=temp_df.loc[('1. 소각할 주식의 종류와 수','보통주식 (주)'),2]\n",
      "C:\\Users\\exp202207\\AppData\\Local\\Temp\\ipykernel_3528\\2251890180.py:96: PerformanceWarning: indexing past lexsort depth may impact performance.\n",
      "  prefer_stock=temp_df.loc[('2. 발행주식 총수','종류주식 (주)'),2]\n",
      "C:\\Users\\exp202207\\AppData\\Local\\Temp\\ipykernel_3528\\2251890180.py:97: PerformanceWarning: indexing past lexsort depth may impact performance.\n",
      "  prefer_fire=temp_df.loc[('1. 소각할 주식의 종류와 수','종류주식 (주)'),2]\n"
     ]
    },
    {
     "name": "stdout",
     "output_type": "stream",
     "text": [
      "HTTP Error 404: Not Found\n"
     ]
    },
    {
     "name": "stderr",
     "output_type": "stream",
     "text": [
      "C:\\Users\\exp202207\\AppData\\Local\\Temp\\ipykernel_3528\\2251890180.py:94: PerformanceWarning: indexing past lexsort depth may impact performance.\n",
      "  common_stock=temp_df.loc[('2. 발행주식 총수','보통주식 (주)'),2]\n",
      "C:\\Users\\exp202207\\AppData\\Local\\Temp\\ipykernel_3528\\2251890180.py:95: PerformanceWarning: indexing past lexsort depth may impact performance.\n",
      "  common_fire=temp_df.loc[('1. 소각할 주식의 종류와 수','보통주식 (주)'),2]\n",
      "C:\\Users\\exp202207\\AppData\\Local\\Temp\\ipykernel_3528\\2251890180.py:96: PerformanceWarning: indexing past lexsort depth may impact performance.\n",
      "  prefer_stock=temp_df.loc[('2. 발행주식 총수','종류주식 (주)'),2]\n",
      "C:\\Users\\exp202207\\AppData\\Local\\Temp\\ipykernel_3528\\2251890180.py:97: PerformanceWarning: indexing past lexsort depth may impact performance.\n",
      "  prefer_fire=temp_df.loc[('1. 소각할 주식의 종류와 수','종류주식 (주)'),2]\n"
     ]
    },
    {
     "name": "stdout",
     "output_type": "stream",
     "text": [
      "HTTP Error 404: Not Found\n"
     ]
    },
    {
     "name": "stderr",
     "output_type": "stream",
     "text": [
      "C:\\Users\\exp202207\\AppData\\Local\\Temp\\ipykernel_3528\\2251890180.py:94: PerformanceWarning: indexing past lexsort depth may impact performance.\n",
      "  common_stock=temp_df.loc[('2. 발행주식 총수','보통주식 (주)'),2]\n",
      "C:\\Users\\exp202207\\AppData\\Local\\Temp\\ipykernel_3528\\2251890180.py:95: PerformanceWarning: indexing past lexsort depth may impact performance.\n",
      "  common_fire=temp_df.loc[('1. 소각할 주식의 종류와 수','보통주식 (주)'),2]\n",
      "C:\\Users\\exp202207\\AppData\\Local\\Temp\\ipykernel_3528\\2251890180.py:96: PerformanceWarning: indexing past lexsort depth may impact performance.\n",
      "  prefer_stock=temp_df.loc[('2. 발행주식 총수','종류주식 (주)'),2]\n",
      "C:\\Users\\exp202207\\AppData\\Local\\Temp\\ipykernel_3528\\2251890180.py:97: PerformanceWarning: indexing past lexsort depth may impact performance.\n",
      "  prefer_fire=temp_df.loc[('1. 소각할 주식의 종류와 수','종류주식 (주)'),2]\n"
     ]
    },
    {
     "name": "stdout",
     "output_type": "stream",
     "text": [
      "HTTP Error 404: Not Found\n"
     ]
    },
    {
     "name": "stderr",
     "output_type": "stream",
     "text": [
      "C:\\Users\\exp202207\\AppData\\Local\\Temp\\ipykernel_3528\\2251890180.py:94: PerformanceWarning: indexing past lexsort depth may impact performance.\n",
      "  common_stock=temp_df.loc[('2. 발행주식 총수','보통주식 (주)'),2]\n",
      "C:\\Users\\exp202207\\AppData\\Local\\Temp\\ipykernel_3528\\2251890180.py:95: PerformanceWarning: indexing past lexsort depth may impact performance.\n",
      "  common_fire=temp_df.loc[('1. 소각할 주식의 종류와 수','보통주식 (주)'),2]\n",
      "C:\\Users\\exp202207\\AppData\\Local\\Temp\\ipykernel_3528\\2251890180.py:96: PerformanceWarning: indexing past lexsort depth may impact performance.\n",
      "  prefer_stock=temp_df.loc[('2. 발행주식 총수','종류주식 (주)'),2]\n",
      "C:\\Users\\exp202207\\AppData\\Local\\Temp\\ipykernel_3528\\2251890180.py:97: PerformanceWarning: indexing past lexsort depth may impact performance.\n",
      "  prefer_fire=temp_df.loc[('1. 소각할 주식의 종류와 수','종류주식 (주)'),2]\n"
     ]
    },
    {
     "name": "stdout",
     "output_type": "stream",
     "text": [
      "HTTP Error 404: Not Found\n"
     ]
    },
    {
     "name": "stderr",
     "output_type": "stream",
     "text": [
      "C:\\Users\\exp202207\\AppData\\Local\\Temp\\ipykernel_3528\\2251890180.py:94: PerformanceWarning: indexing past lexsort depth may impact performance.\n",
      "  common_stock=temp_df.loc[('2. 발행주식 총수','보통주식 (주)'),2]\n",
      "C:\\Users\\exp202207\\AppData\\Local\\Temp\\ipykernel_3528\\2251890180.py:95: PerformanceWarning: indexing past lexsort depth may impact performance.\n",
      "  common_fire=temp_df.loc[('1. 소각할 주식의 종류와 수','보통주식 (주)'),2]\n",
      "C:\\Users\\exp202207\\AppData\\Local\\Temp\\ipykernel_3528\\2251890180.py:96: PerformanceWarning: indexing past lexsort depth may impact performance.\n",
      "  prefer_stock=temp_df.loc[('2. 발행주식 총수','종류주식 (주)'),2]\n",
      "C:\\Users\\exp202207\\AppData\\Local\\Temp\\ipykernel_3528\\2251890180.py:97: PerformanceWarning: indexing past lexsort depth may impact performance.\n",
      "  prefer_fire=temp_df.loc[('1. 소각할 주식의 종류와 수','종류주식 (주)'),2]\n"
     ]
    },
    {
     "name": "stdout",
     "output_type": "stream",
     "text": [
      "HTTP Error 404: Not Found\n",
      "('2. 발행주식 총수', '보통주식 (주)')\n"
     ]
    },
    {
     "name": "stderr",
     "output_type": "stream",
     "text": [
      "C:\\Users\\exp202207\\AppData\\Local\\Temp\\ipykernel_3528\\2251890180.py:94: PerformanceWarning: indexing past lexsort depth may impact performance.\n",
      "  common_stock=temp_df.loc[('2. 발행주식 총수','보통주식 (주)'),2]\n",
      "C:\\Users\\exp202207\\AppData\\Local\\Temp\\ipykernel_3528\\2251890180.py:95: PerformanceWarning: indexing past lexsort depth may impact performance.\n",
      "  common_fire=temp_df.loc[('1. 소각할 주식의 종류와 수','보통주식 (주)'),2]\n",
      "C:\\Users\\exp202207\\AppData\\Local\\Temp\\ipykernel_3528\\2251890180.py:96: PerformanceWarning: indexing past lexsort depth may impact performance.\n",
      "  prefer_stock=temp_df.loc[('2. 발행주식 총수','종류주식 (주)'),2]\n",
      "C:\\Users\\exp202207\\AppData\\Local\\Temp\\ipykernel_3528\\2251890180.py:97: PerformanceWarning: indexing past lexsort depth may impact performance.\n",
      "  prefer_fire=temp_df.loc[('1. 소각할 주식의 종류와 수','종류주식 (주)'),2]\n"
     ]
    },
    {
     "name": "stdout",
     "output_type": "stream",
     "text": [
      "HTTP Error 404: Not Found\n"
     ]
    },
    {
     "name": "stderr",
     "output_type": "stream",
     "text": [
      "C:\\Users\\exp202207\\AppData\\Local\\Temp\\ipykernel_3528\\2251890180.py:94: PerformanceWarning: indexing past lexsort depth may impact performance.\n",
      "  common_stock=temp_df.loc[('2. 발행주식 총수','보통주식 (주)'),2]\n",
      "C:\\Users\\exp202207\\AppData\\Local\\Temp\\ipykernel_3528\\2251890180.py:95: PerformanceWarning: indexing past lexsort depth may impact performance.\n",
      "  common_fire=temp_df.loc[('1. 소각할 주식의 종류와 수','보통주식 (주)'),2]\n",
      "C:\\Users\\exp202207\\AppData\\Local\\Temp\\ipykernel_3528\\2251890180.py:96: PerformanceWarning: indexing past lexsort depth may impact performance.\n",
      "  prefer_stock=temp_df.loc[('2. 발행주식 총수','종류주식 (주)'),2]\n",
      "C:\\Users\\exp202207\\AppData\\Local\\Temp\\ipykernel_3528\\2251890180.py:97: PerformanceWarning: indexing past lexsort depth may impact performance.\n",
      "  prefer_fire=temp_df.loc[('1. 소각할 주식의 종류와 수','종류주식 (주)'),2]\n"
     ]
    },
    {
     "name": "stdout",
     "output_type": "stream",
     "text": [
      "HTTP Error 404: Not Found\n"
     ]
    },
    {
     "name": "stderr",
     "output_type": "stream",
     "text": [
      "C:\\Users\\exp202207\\AppData\\Local\\Temp\\ipykernel_3528\\2251890180.py:94: PerformanceWarning: indexing past lexsort depth may impact performance.\n",
      "  common_stock=temp_df.loc[('2. 발행주식 총수','보통주식 (주)'),2]\n",
      "C:\\Users\\exp202207\\AppData\\Local\\Temp\\ipykernel_3528\\2251890180.py:95: PerformanceWarning: indexing past lexsort depth may impact performance.\n",
      "  common_fire=temp_df.loc[('1. 소각할 주식의 종류와 수','보통주식 (주)'),2]\n",
      "C:\\Users\\exp202207\\AppData\\Local\\Temp\\ipykernel_3528\\2251890180.py:96: PerformanceWarning: indexing past lexsort depth may impact performance.\n",
      "  prefer_stock=temp_df.loc[('2. 발행주식 총수','종류주식 (주)'),2]\n",
      "C:\\Users\\exp202207\\AppData\\Local\\Temp\\ipykernel_3528\\2251890180.py:97: PerformanceWarning: indexing past lexsort depth may impact performance.\n",
      "  prefer_fire=temp_df.loc[('1. 소각할 주식의 종류와 수','종류주식 (주)'),2]\n"
     ]
    },
    {
     "name": "stdout",
     "output_type": "stream",
     "text": [
      "HTTP Error 404: Not Found\n"
     ]
    },
    {
     "name": "stderr",
     "output_type": "stream",
     "text": [
      "C:\\Users\\exp202207\\AppData\\Local\\Temp\\ipykernel_3528\\2251890180.py:94: PerformanceWarning: indexing past lexsort depth may impact performance.\n",
      "  common_stock=temp_df.loc[('2. 발행주식 총수','보통주식 (주)'),2]\n",
      "C:\\Users\\exp202207\\AppData\\Local\\Temp\\ipykernel_3528\\2251890180.py:95: PerformanceWarning: indexing past lexsort depth may impact performance.\n",
      "  common_fire=temp_df.loc[('1. 소각할 주식의 종류와 수','보통주식 (주)'),2]\n",
      "C:\\Users\\exp202207\\AppData\\Local\\Temp\\ipykernel_3528\\2251890180.py:96: PerformanceWarning: indexing past lexsort depth may impact performance.\n",
      "  prefer_stock=temp_df.loc[('2. 발행주식 총수','종류주식 (주)'),2]\n",
      "C:\\Users\\exp202207\\AppData\\Local\\Temp\\ipykernel_3528\\2251890180.py:97: PerformanceWarning: indexing past lexsort depth may impact performance.\n",
      "  prefer_fire=temp_df.loc[('1. 소각할 주식의 종류와 수','종류주식 (주)'),2]\n"
     ]
    },
    {
     "name": "stdout",
     "output_type": "stream",
     "text": [
      "HTTP Error 404: Not Found\n"
     ]
    },
    {
     "name": "stderr",
     "output_type": "stream",
     "text": [
      "C:\\Users\\exp202207\\AppData\\Local\\Temp\\ipykernel_3528\\2251890180.py:94: PerformanceWarning: indexing past lexsort depth may impact performance.\n",
      "  common_stock=temp_df.loc[('2. 발행주식 총수','보통주식 (주)'),2]\n",
      "C:\\Users\\exp202207\\AppData\\Local\\Temp\\ipykernel_3528\\2251890180.py:95: PerformanceWarning: indexing past lexsort depth may impact performance.\n",
      "  common_fire=temp_df.loc[('1. 소각할 주식의 종류와 수','보통주식 (주)'),2]\n",
      "C:\\Users\\exp202207\\AppData\\Local\\Temp\\ipykernel_3528\\2251890180.py:96: PerformanceWarning: indexing past lexsort depth may impact performance.\n",
      "  prefer_stock=temp_df.loc[('2. 발행주식 총수','종류주식 (주)'),2]\n",
      "C:\\Users\\exp202207\\AppData\\Local\\Temp\\ipykernel_3528\\2251890180.py:97: PerformanceWarning: indexing past lexsort depth may impact performance.\n",
      "  prefer_fire=temp_df.loc[('1. 소각할 주식의 종류와 수','종류주식 (주)'),2]\n"
     ]
    },
    {
     "name": "stdout",
     "output_type": "stream",
     "text": [
      "HTTP Error 404: Not Found\n"
     ]
    },
    {
     "name": "stderr",
     "output_type": "stream",
     "text": [
      "C:\\Users\\exp202207\\AppData\\Local\\Temp\\ipykernel_3528\\2251890180.py:94: PerformanceWarning: indexing past lexsort depth may impact performance.\n",
      "  common_stock=temp_df.loc[('2. 발행주식 총수','보통주식 (주)'),2]\n",
      "C:\\Users\\exp202207\\AppData\\Local\\Temp\\ipykernel_3528\\2251890180.py:95: PerformanceWarning: indexing past lexsort depth may impact performance.\n",
      "  common_fire=temp_df.loc[('1. 소각할 주식의 종류와 수','보통주식 (주)'),2]\n",
      "C:\\Users\\exp202207\\AppData\\Local\\Temp\\ipykernel_3528\\2251890180.py:96: PerformanceWarning: indexing past lexsort depth may impact performance.\n",
      "  prefer_stock=temp_df.loc[('2. 발행주식 총수','종류주식 (주)'),2]\n",
      "C:\\Users\\exp202207\\AppData\\Local\\Temp\\ipykernel_3528\\2251890180.py:97: PerformanceWarning: indexing past lexsort depth may impact performance.\n",
      "  prefer_fire=temp_df.loc[('1. 소각할 주식의 종류와 수','종류주식 (주)'),2]\n"
     ]
    },
    {
     "name": "stdout",
     "output_type": "stream",
     "text": [
      "HTTP Error 404: Not Found\n",
      "('2. 발행주식 총수', '보통주식 (주)')\n"
     ]
    },
    {
     "name": "stderr",
     "output_type": "stream",
     "text": [
      "C:\\Users\\exp202207\\AppData\\Local\\Temp\\ipykernel_3528\\2251890180.py:94: PerformanceWarning: indexing past lexsort depth may impact performance.\n",
      "  common_stock=temp_df.loc[('2. 발행주식 총수','보통주식 (주)'),2]\n",
      "C:\\Users\\exp202207\\AppData\\Local\\Temp\\ipykernel_3528\\2251890180.py:95: PerformanceWarning: indexing past lexsort depth may impact performance.\n",
      "  common_fire=temp_df.loc[('1. 소각할 주식의 종류와 수','보통주식 (주)'),2]\n",
      "C:\\Users\\exp202207\\AppData\\Local\\Temp\\ipykernel_3528\\2251890180.py:96: PerformanceWarning: indexing past lexsort depth may impact performance.\n",
      "  prefer_stock=temp_df.loc[('2. 발행주식 총수','종류주식 (주)'),2]\n",
      "C:\\Users\\exp202207\\AppData\\Local\\Temp\\ipykernel_3528\\2251890180.py:97: PerformanceWarning: indexing past lexsort depth may impact performance.\n",
      "  prefer_fire=temp_df.loc[('1. 소각할 주식의 종류와 수','종류주식 (주)'),2]\n"
     ]
    },
    {
     "name": "stdout",
     "output_type": "stream",
     "text": [
      "HTTP Error 404: Not Found\n"
     ]
    },
    {
     "name": "stderr",
     "output_type": "stream",
     "text": [
      "C:\\Users\\exp202207\\AppData\\Local\\Temp\\ipykernel_3528\\2251890180.py:94: PerformanceWarning: indexing past lexsort depth may impact performance.\n",
      "  common_stock=temp_df.loc[('2. 발행주식 총수','보통주식 (주)'),2]\n",
      "C:\\Users\\exp202207\\AppData\\Local\\Temp\\ipykernel_3528\\2251890180.py:95: PerformanceWarning: indexing past lexsort depth may impact performance.\n",
      "  common_fire=temp_df.loc[('1. 소각할 주식의 종류와 수','보통주식 (주)'),2]\n",
      "C:\\Users\\exp202207\\AppData\\Local\\Temp\\ipykernel_3528\\2251890180.py:96: PerformanceWarning: indexing past lexsort depth may impact performance.\n",
      "  prefer_stock=temp_df.loc[('2. 발행주식 총수','종류주식 (주)'),2]\n",
      "C:\\Users\\exp202207\\AppData\\Local\\Temp\\ipykernel_3528\\2251890180.py:97: PerformanceWarning: indexing past lexsort depth may impact performance.\n",
      "  prefer_fire=temp_df.loc[('1. 소각할 주식의 종류와 수','종류주식 (주)'),2]\n"
     ]
    },
    {
     "name": "stdout",
     "output_type": "stream",
     "text": [
      "HTTP Error 404: Not Found\n"
     ]
    },
    {
     "name": "stderr",
     "output_type": "stream",
     "text": [
      "C:\\Users\\exp202207\\AppData\\Local\\Temp\\ipykernel_3528\\2251890180.py:94: PerformanceWarning: indexing past lexsort depth may impact performance.\n",
      "  common_stock=temp_df.loc[('2. 발행주식 총수','보통주식 (주)'),2]\n",
      "C:\\Users\\exp202207\\AppData\\Local\\Temp\\ipykernel_3528\\2251890180.py:95: PerformanceWarning: indexing past lexsort depth may impact performance.\n",
      "  common_fire=temp_df.loc[('1. 소각할 주식의 종류와 수','보통주식 (주)'),2]\n",
      "C:\\Users\\exp202207\\AppData\\Local\\Temp\\ipykernel_3528\\2251890180.py:96: PerformanceWarning: indexing past lexsort depth may impact performance.\n",
      "  prefer_stock=temp_df.loc[('2. 발행주식 총수','종류주식 (주)'),2]\n",
      "C:\\Users\\exp202207\\AppData\\Local\\Temp\\ipykernel_3528\\2251890180.py:97: PerformanceWarning: indexing past lexsort depth may impact performance.\n",
      "  prefer_fire=temp_df.loc[('1. 소각할 주식의 종류와 수','종류주식 (주)'),2]\n"
     ]
    },
    {
     "name": "stdout",
     "output_type": "stream",
     "text": [
      "HTTP Error 404: Not Found\n"
     ]
    },
    {
     "name": "stderr",
     "output_type": "stream",
     "text": [
      "C:\\Users\\exp202207\\AppData\\Local\\Temp\\ipykernel_3528\\2251890180.py:94: PerformanceWarning: indexing past lexsort depth may impact performance.\n",
      "  common_stock=temp_df.loc[('2. 발행주식 총수','보통주식 (주)'),2]\n",
      "C:\\Users\\exp202207\\AppData\\Local\\Temp\\ipykernel_3528\\2251890180.py:95: PerformanceWarning: indexing past lexsort depth may impact performance.\n",
      "  common_fire=temp_df.loc[('1. 소각할 주식의 종류와 수','보통주식 (주)'),2]\n",
      "C:\\Users\\exp202207\\AppData\\Local\\Temp\\ipykernel_3528\\2251890180.py:96: PerformanceWarning: indexing past lexsort depth may impact performance.\n",
      "  prefer_stock=temp_df.loc[('2. 발행주식 총수','종류주식 (주)'),2]\n",
      "C:\\Users\\exp202207\\AppData\\Local\\Temp\\ipykernel_3528\\2251890180.py:97: PerformanceWarning: indexing past lexsort depth may impact performance.\n",
      "  prefer_fire=temp_df.loc[('1. 소각할 주식의 종류와 수','종류주식 (주)'),2]\n"
     ]
    },
    {
     "name": "stdout",
     "output_type": "stream",
     "text": [
      "HTTP Error 404: Not Found\n"
     ]
    },
    {
     "name": "stderr",
     "output_type": "stream",
     "text": [
      "C:\\Users\\exp202207\\AppData\\Local\\Temp\\ipykernel_3528\\2251890180.py:94: PerformanceWarning: indexing past lexsort depth may impact performance.\n",
      "  common_stock=temp_df.loc[('2. 발행주식 총수','보통주식 (주)'),2]\n",
      "C:\\Users\\exp202207\\AppData\\Local\\Temp\\ipykernel_3528\\2251890180.py:95: PerformanceWarning: indexing past lexsort depth may impact performance.\n",
      "  common_fire=temp_df.loc[('1. 소각할 주식의 종류와 수','보통주식 (주)'),2]\n",
      "C:\\Users\\exp202207\\AppData\\Local\\Temp\\ipykernel_3528\\2251890180.py:96: PerformanceWarning: indexing past lexsort depth may impact performance.\n",
      "  prefer_stock=temp_df.loc[('2. 발행주식 총수','종류주식 (주)'),2]\n",
      "C:\\Users\\exp202207\\AppData\\Local\\Temp\\ipykernel_3528\\2251890180.py:97: PerformanceWarning: indexing past lexsort depth may impact performance.\n",
      "  prefer_fire=temp_df.loc[('1. 소각할 주식의 종류와 수','종류주식 (주)'),2]\n"
     ]
    },
    {
     "name": "stdout",
     "output_type": "stream",
     "text": [
      "HTTP Error 404: Not Found\n"
     ]
    },
    {
     "name": "stderr",
     "output_type": "stream",
     "text": [
      "C:\\Users\\exp202207\\AppData\\Local\\Temp\\ipykernel_3528\\2251890180.py:94: PerformanceWarning: indexing past lexsort depth may impact performance.\n",
      "  common_stock=temp_df.loc[('2. 발행주식 총수','보통주식 (주)'),2]\n",
      "C:\\Users\\exp202207\\AppData\\Local\\Temp\\ipykernel_3528\\2251890180.py:95: PerformanceWarning: indexing past lexsort depth may impact performance.\n",
      "  common_fire=temp_df.loc[('1. 소각할 주식의 종류와 수','보통주식 (주)'),2]\n",
      "C:\\Users\\exp202207\\AppData\\Local\\Temp\\ipykernel_3528\\2251890180.py:96: PerformanceWarning: indexing past lexsort depth may impact performance.\n",
      "  prefer_stock=temp_df.loc[('2. 발행주식 총수','종류주식 (주)'),2]\n",
      "C:\\Users\\exp202207\\AppData\\Local\\Temp\\ipykernel_3528\\2251890180.py:97: PerformanceWarning: indexing past lexsort depth may impact performance.\n",
      "  prefer_fire=temp_df.loc[('1. 소각할 주식의 종류와 수','종류주식 (주)'),2]\n"
     ]
    },
    {
     "name": "stdout",
     "output_type": "stream",
     "text": [
      "HTTP Error 404: Not Found\n"
     ]
    },
    {
     "name": "stderr",
     "output_type": "stream",
     "text": [
      "C:\\Users\\exp202207\\AppData\\Local\\Temp\\ipykernel_3528\\2251890180.py:94: PerformanceWarning: indexing past lexsort depth may impact performance.\n",
      "  common_stock=temp_df.loc[('2. 발행주식 총수','보통주식 (주)'),2]\n",
      "C:\\Users\\exp202207\\AppData\\Local\\Temp\\ipykernel_3528\\2251890180.py:95: PerformanceWarning: indexing past lexsort depth may impact performance.\n",
      "  common_fire=temp_df.loc[('1. 소각할 주식의 종류와 수','보통주식 (주)'),2]\n",
      "C:\\Users\\exp202207\\AppData\\Local\\Temp\\ipykernel_3528\\2251890180.py:96: PerformanceWarning: indexing past lexsort depth may impact performance.\n",
      "  prefer_stock=temp_df.loc[('2. 발행주식 총수','종류주식 (주)'),2]\n",
      "C:\\Users\\exp202207\\AppData\\Local\\Temp\\ipykernel_3528\\2251890180.py:97: PerformanceWarning: indexing past lexsort depth may impact performance.\n",
      "  prefer_fire=temp_df.loc[('1. 소각할 주식의 종류와 수','종류주식 (주)'),2]\n"
     ]
    },
    {
     "name": "stdout",
     "output_type": "stream",
     "text": [
      "HTTP Error 404: Not Found\n"
     ]
    },
    {
     "name": "stderr",
     "output_type": "stream",
     "text": [
      "C:\\Users\\exp202207\\AppData\\Local\\Temp\\ipykernel_3528\\2251890180.py:94: PerformanceWarning: indexing past lexsort depth may impact performance.\n",
      "  common_stock=temp_df.loc[('2. 발행주식 총수','보통주식 (주)'),2]\n",
      "C:\\Users\\exp202207\\AppData\\Local\\Temp\\ipykernel_3528\\2251890180.py:95: PerformanceWarning: indexing past lexsort depth may impact performance.\n",
      "  common_fire=temp_df.loc[('1. 소각할 주식의 종류와 수','보통주식 (주)'),2]\n",
      "C:\\Users\\exp202207\\AppData\\Local\\Temp\\ipykernel_3528\\2251890180.py:96: PerformanceWarning: indexing past lexsort depth may impact performance.\n",
      "  prefer_stock=temp_df.loc[('2. 발행주식 총수','종류주식 (주)'),2]\n",
      "C:\\Users\\exp202207\\AppData\\Local\\Temp\\ipykernel_3528\\2251890180.py:97: PerformanceWarning: indexing past lexsort depth may impact performance.\n",
      "  prefer_fire=temp_df.loc[('1. 소각할 주식의 종류와 수','종류주식 (주)'),2]\n"
     ]
    },
    {
     "name": "stdout",
     "output_type": "stream",
     "text": [
      "HTTP Error 404: Not Found\n"
     ]
    },
    {
     "name": "stderr",
     "output_type": "stream",
     "text": [
      "C:\\Users\\exp202207\\AppData\\Local\\Temp\\ipykernel_3528\\2251890180.py:94: PerformanceWarning: indexing past lexsort depth may impact performance.\n",
      "  common_stock=temp_df.loc[('2. 발행주식 총수','보통주식 (주)'),2]\n",
      "C:\\Users\\exp202207\\AppData\\Local\\Temp\\ipykernel_3528\\2251890180.py:95: PerformanceWarning: indexing past lexsort depth may impact performance.\n",
      "  common_fire=temp_df.loc[('1. 소각할 주식의 종류와 수','보통주식 (주)'),2]\n",
      "C:\\Users\\exp202207\\AppData\\Local\\Temp\\ipykernel_3528\\2251890180.py:96: PerformanceWarning: indexing past lexsort depth may impact performance.\n",
      "  prefer_stock=temp_df.loc[('2. 발행주식 총수','종류주식 (주)'),2]\n",
      "C:\\Users\\exp202207\\AppData\\Local\\Temp\\ipykernel_3528\\2251890180.py:97: PerformanceWarning: indexing past lexsort depth may impact performance.\n",
      "  prefer_fire=temp_df.loc[('1. 소각할 주식의 종류와 수','종류주식 (주)'),2]\n"
     ]
    },
    {
     "name": "stdout",
     "output_type": "stream",
     "text": [
      "HTTP Error 404: Not Found\n"
     ]
    },
    {
     "name": "stderr",
     "output_type": "stream",
     "text": [
      "C:\\Users\\exp202207\\AppData\\Local\\Temp\\ipykernel_3528\\2251890180.py:94: PerformanceWarning: indexing past lexsort depth may impact performance.\n",
      "  common_stock=temp_df.loc[('2. 발행주식 총수','보통주식 (주)'),2]\n",
      "C:\\Users\\exp202207\\AppData\\Local\\Temp\\ipykernel_3528\\2251890180.py:95: PerformanceWarning: indexing past lexsort depth may impact performance.\n",
      "  common_fire=temp_df.loc[('1. 소각할 주식의 종류와 수','보통주식 (주)'),2]\n",
      "C:\\Users\\exp202207\\AppData\\Local\\Temp\\ipykernel_3528\\2251890180.py:96: PerformanceWarning: indexing past lexsort depth may impact performance.\n",
      "  prefer_stock=temp_df.loc[('2. 발행주식 총수','종류주식 (주)'),2]\n",
      "C:\\Users\\exp202207\\AppData\\Local\\Temp\\ipykernel_3528\\2251890180.py:97: PerformanceWarning: indexing past lexsort depth may impact performance.\n",
      "  prefer_fire=temp_df.loc[('1. 소각할 주식의 종류와 수','종류주식 (주)'),2]\n"
     ]
    },
    {
     "name": "stdout",
     "output_type": "stream",
     "text": [
      "HTTP Error 404: Not Found\n"
     ]
    },
    {
     "name": "stderr",
     "output_type": "stream",
     "text": [
      "C:\\Users\\exp202207\\AppData\\Local\\Temp\\ipykernel_3528\\2251890180.py:94: PerformanceWarning: indexing past lexsort depth may impact performance.\n",
      "  common_stock=temp_df.loc[('2. 발행주식 총수','보통주식 (주)'),2]\n",
      "C:\\Users\\exp202207\\AppData\\Local\\Temp\\ipykernel_3528\\2251890180.py:95: PerformanceWarning: indexing past lexsort depth may impact performance.\n",
      "  common_fire=temp_df.loc[('1. 소각할 주식의 종류와 수','보통주식 (주)'),2]\n",
      "C:\\Users\\exp202207\\AppData\\Local\\Temp\\ipykernel_3528\\2251890180.py:96: PerformanceWarning: indexing past lexsort depth may impact performance.\n",
      "  prefer_stock=temp_df.loc[('2. 발행주식 총수','종류주식 (주)'),2]\n",
      "C:\\Users\\exp202207\\AppData\\Local\\Temp\\ipykernel_3528\\2251890180.py:97: PerformanceWarning: indexing past lexsort depth may impact performance.\n",
      "  prefer_fire=temp_df.loc[('1. 소각할 주식의 종류와 수','종류주식 (주)'),2]\n"
     ]
    },
    {
     "name": "stdout",
     "output_type": "stream",
     "text": [
      "HTTP Error 404: Not Found\n",
      "('2. 발행주식 총수', '보통주식 (주)')\n"
     ]
    },
    {
     "name": "stderr",
     "output_type": "stream",
     "text": [
      "C:\\Users\\exp202207\\AppData\\Local\\Temp\\ipykernel_3528\\2251890180.py:94: PerformanceWarning: indexing past lexsort depth may impact performance.\n",
      "  common_stock=temp_df.loc[('2. 발행주식 총수','보통주식 (주)'),2]\n",
      "C:\\Users\\exp202207\\AppData\\Local\\Temp\\ipykernel_3528\\2251890180.py:95: PerformanceWarning: indexing past lexsort depth may impact performance.\n",
      "  common_fire=temp_df.loc[('1. 소각할 주식의 종류와 수','보통주식 (주)'),2]\n",
      "C:\\Users\\exp202207\\AppData\\Local\\Temp\\ipykernel_3528\\2251890180.py:96: PerformanceWarning: indexing past lexsort depth may impact performance.\n",
      "  prefer_stock=temp_df.loc[('2. 발행주식 총수','종류주식 (주)'),2]\n",
      "C:\\Users\\exp202207\\AppData\\Local\\Temp\\ipykernel_3528\\2251890180.py:97: PerformanceWarning: indexing past lexsort depth may impact performance.\n",
      "  prefer_fire=temp_df.loc[('1. 소각할 주식의 종류와 수','종류주식 (주)'),2]\n"
     ]
    },
    {
     "name": "stdout",
     "output_type": "stream",
     "text": [
      "HTTP Error 404: Not Found\n",
      "('2. 발행주식 총수', '보통주식 (주)')\n"
     ]
    },
    {
     "name": "stderr",
     "output_type": "stream",
     "text": [
      "C:\\Users\\exp202207\\AppData\\Local\\Temp\\ipykernel_3528\\2251890180.py:94: PerformanceWarning: indexing past lexsort depth may impact performance.\n",
      "  common_stock=temp_df.loc[('2. 발행주식 총수','보통주식 (주)'),2]\n",
      "C:\\Users\\exp202207\\AppData\\Local\\Temp\\ipykernel_3528\\2251890180.py:95: PerformanceWarning: indexing past lexsort depth may impact performance.\n",
      "  common_fire=temp_df.loc[('1. 소각할 주식의 종류와 수','보통주식 (주)'),2]\n",
      "C:\\Users\\exp202207\\AppData\\Local\\Temp\\ipykernel_3528\\2251890180.py:96: PerformanceWarning: indexing past lexsort depth may impact performance.\n",
      "  prefer_stock=temp_df.loc[('2. 발행주식 총수','종류주식 (주)'),2]\n",
      "C:\\Users\\exp202207\\AppData\\Local\\Temp\\ipykernel_3528\\2251890180.py:97: PerformanceWarning: indexing past lexsort depth may impact performance.\n",
      "  prefer_fire=temp_df.loc[('1. 소각할 주식의 종류와 수','종류주식 (주)'),2]\n"
     ]
    },
    {
     "name": "stdout",
     "output_type": "stream",
     "text": [
      "HTTP Error 404: Not Found\n",
      "('2. 발행주식 총수', '보통주식 (주)')\n"
     ]
    },
    {
     "name": "stderr",
     "output_type": "stream",
     "text": [
      "C:\\Users\\exp202207\\AppData\\Local\\Temp\\ipykernel_3528\\2251890180.py:94: PerformanceWarning: indexing past lexsort depth may impact performance.\n",
      "  common_stock=temp_df.loc[('2. 발행주식 총수','보통주식 (주)'),2]\n",
      "C:\\Users\\exp202207\\AppData\\Local\\Temp\\ipykernel_3528\\2251890180.py:95: PerformanceWarning: indexing past lexsort depth may impact performance.\n",
      "  common_fire=temp_df.loc[('1. 소각할 주식의 종류와 수','보통주식 (주)'),2]\n",
      "C:\\Users\\exp202207\\AppData\\Local\\Temp\\ipykernel_3528\\2251890180.py:96: PerformanceWarning: indexing past lexsort depth may impact performance.\n",
      "  prefer_stock=temp_df.loc[('2. 발행주식 총수','종류주식 (주)'),2]\n",
      "C:\\Users\\exp202207\\AppData\\Local\\Temp\\ipykernel_3528\\2251890180.py:97: PerformanceWarning: indexing past lexsort depth may impact performance.\n",
      "  prefer_fire=temp_df.loc[('1. 소각할 주식의 종류와 수','종류주식 (주)'),2]\n"
     ]
    },
    {
     "name": "stdout",
     "output_type": "stream",
     "text": [
      "HTTP Error 404: Not Found\n"
     ]
    },
    {
     "name": "stderr",
     "output_type": "stream",
     "text": [
      "C:\\Users\\exp202207\\AppData\\Local\\Temp\\ipykernel_3528\\2251890180.py:94: PerformanceWarning: indexing past lexsort depth may impact performance.\n",
      "  common_stock=temp_df.loc[('2. 발행주식 총수','보통주식 (주)'),2]\n",
      "C:\\Users\\exp202207\\AppData\\Local\\Temp\\ipykernel_3528\\2251890180.py:95: PerformanceWarning: indexing past lexsort depth may impact performance.\n",
      "  common_fire=temp_df.loc[('1. 소각할 주식의 종류와 수','보통주식 (주)'),2]\n",
      "C:\\Users\\exp202207\\AppData\\Local\\Temp\\ipykernel_3528\\2251890180.py:96: PerformanceWarning: indexing past lexsort depth may impact performance.\n",
      "  prefer_stock=temp_df.loc[('2. 발행주식 총수','종류주식 (주)'),2]\n",
      "C:\\Users\\exp202207\\AppData\\Local\\Temp\\ipykernel_3528\\2251890180.py:97: PerformanceWarning: indexing past lexsort depth may impact performance.\n",
      "  prefer_fire=temp_df.loc[('1. 소각할 주식의 종류와 수','종류주식 (주)'),2]\n"
     ]
    },
    {
     "name": "stdout",
     "output_type": "stream",
     "text": [
      "HTTP Error 404: Not Found\n"
     ]
    },
    {
     "name": "stderr",
     "output_type": "stream",
     "text": [
      "C:\\Users\\exp202207\\AppData\\Local\\Temp\\ipykernel_3528\\2251890180.py:94: PerformanceWarning: indexing past lexsort depth may impact performance.\n",
      "  common_stock=temp_df.loc[('2. 발행주식 총수','보통주식 (주)'),2]\n",
      "C:\\Users\\exp202207\\AppData\\Local\\Temp\\ipykernel_3528\\2251890180.py:95: PerformanceWarning: indexing past lexsort depth may impact performance.\n",
      "  common_fire=temp_df.loc[('1. 소각할 주식의 종류와 수','보통주식 (주)'),2]\n",
      "C:\\Users\\exp202207\\AppData\\Local\\Temp\\ipykernel_3528\\2251890180.py:96: PerformanceWarning: indexing past lexsort depth may impact performance.\n",
      "  prefer_stock=temp_df.loc[('2. 발행주식 총수','종류주식 (주)'),2]\n",
      "C:\\Users\\exp202207\\AppData\\Local\\Temp\\ipykernel_3528\\2251890180.py:97: PerformanceWarning: indexing past lexsort depth may impact performance.\n",
      "  prefer_fire=temp_df.loc[('1. 소각할 주식의 종류와 수','종류주식 (주)'),2]\n"
     ]
    },
    {
     "name": "stdout",
     "output_type": "stream",
     "text": [
      "HTTP Error 404: Not Found\n",
      "('2. 발행주식 총수', '보통주식 (주)')\n"
     ]
    },
    {
     "name": "stderr",
     "output_type": "stream",
     "text": [
      "C:\\Users\\exp202207\\AppData\\Local\\Temp\\ipykernel_3528\\2251890180.py:94: PerformanceWarning: indexing past lexsort depth may impact performance.\n",
      "  common_stock=temp_df.loc[('2. 발행주식 총수','보통주식 (주)'),2]\n",
      "C:\\Users\\exp202207\\AppData\\Local\\Temp\\ipykernel_3528\\2251890180.py:95: PerformanceWarning: indexing past lexsort depth may impact performance.\n",
      "  common_fire=temp_df.loc[('1. 소각할 주식의 종류와 수','보통주식 (주)'),2]\n",
      "C:\\Users\\exp202207\\AppData\\Local\\Temp\\ipykernel_3528\\2251890180.py:96: PerformanceWarning: indexing past lexsort depth may impact performance.\n",
      "  prefer_stock=temp_df.loc[('2. 발행주식 총수','종류주식 (주)'),2]\n",
      "C:\\Users\\exp202207\\AppData\\Local\\Temp\\ipykernel_3528\\2251890180.py:97: PerformanceWarning: indexing past lexsort depth may impact performance.\n",
      "  prefer_fire=temp_df.loc[('1. 소각할 주식의 종류와 수','종류주식 (주)'),2]\n"
     ]
    },
    {
     "name": "stdout",
     "output_type": "stream",
     "text": [
      "HTTP Error 404: Not Found\n"
     ]
    },
    {
     "name": "stderr",
     "output_type": "stream",
     "text": [
      "C:\\Users\\exp202207\\AppData\\Local\\Temp\\ipykernel_3528\\2251890180.py:94: PerformanceWarning: indexing past lexsort depth may impact performance.\n",
      "  common_stock=temp_df.loc[('2. 발행주식 총수','보통주식 (주)'),2]\n",
      "C:\\Users\\exp202207\\AppData\\Local\\Temp\\ipykernel_3528\\2251890180.py:95: PerformanceWarning: indexing past lexsort depth may impact performance.\n",
      "  common_fire=temp_df.loc[('1. 소각할 주식의 종류와 수','보통주식 (주)'),2]\n",
      "C:\\Users\\exp202207\\AppData\\Local\\Temp\\ipykernel_3528\\2251890180.py:96: PerformanceWarning: indexing past lexsort depth may impact performance.\n",
      "  prefer_stock=temp_df.loc[('2. 발행주식 총수','종류주식 (주)'),2]\n",
      "C:\\Users\\exp202207\\AppData\\Local\\Temp\\ipykernel_3528\\2251890180.py:97: PerformanceWarning: indexing past lexsort depth may impact performance.\n",
      "  prefer_fire=temp_df.loc[('1. 소각할 주식의 종류와 수','종류주식 (주)'),2]\n"
     ]
    },
    {
     "name": "stdout",
     "output_type": "stream",
     "text": [
      "HTTP Error 404: Not Found\n"
     ]
    },
    {
     "name": "stderr",
     "output_type": "stream",
     "text": [
      "C:\\Users\\exp202207\\AppData\\Local\\Temp\\ipykernel_3528\\2251890180.py:94: PerformanceWarning: indexing past lexsort depth may impact performance.\n",
      "  common_stock=temp_df.loc[('2. 발행주식 총수','보통주식 (주)'),2]\n",
      "C:\\Users\\exp202207\\AppData\\Local\\Temp\\ipykernel_3528\\2251890180.py:95: PerformanceWarning: indexing past lexsort depth may impact performance.\n",
      "  common_fire=temp_df.loc[('1. 소각할 주식의 종류와 수','보통주식 (주)'),2]\n",
      "C:\\Users\\exp202207\\AppData\\Local\\Temp\\ipykernel_3528\\2251890180.py:96: PerformanceWarning: indexing past lexsort depth may impact performance.\n",
      "  prefer_stock=temp_df.loc[('2. 발행주식 총수','종류주식 (주)'),2]\n",
      "C:\\Users\\exp202207\\AppData\\Local\\Temp\\ipykernel_3528\\2251890180.py:97: PerformanceWarning: indexing past lexsort depth may impact performance.\n",
      "  prefer_fire=temp_df.loc[('1. 소각할 주식의 종류와 수','종류주식 (주)'),2]\n"
     ]
    },
    {
     "name": "stdout",
     "output_type": "stream",
     "text": [
      "HTTP Error 404: Not Found\n"
     ]
    },
    {
     "name": "stderr",
     "output_type": "stream",
     "text": [
      "C:\\Users\\exp202207\\AppData\\Local\\Temp\\ipykernel_3528\\2251890180.py:94: PerformanceWarning: indexing past lexsort depth may impact performance.\n",
      "  common_stock=temp_df.loc[('2. 발행주식 총수','보통주식 (주)'),2]\n",
      "C:\\Users\\exp202207\\AppData\\Local\\Temp\\ipykernel_3528\\2251890180.py:95: PerformanceWarning: indexing past lexsort depth may impact performance.\n",
      "  common_fire=temp_df.loc[('1. 소각할 주식의 종류와 수','보통주식 (주)'),2]\n",
      "C:\\Users\\exp202207\\AppData\\Local\\Temp\\ipykernel_3528\\2251890180.py:96: PerformanceWarning: indexing past lexsort depth may impact performance.\n",
      "  prefer_stock=temp_df.loc[('2. 발행주식 총수','종류주식 (주)'),2]\n",
      "C:\\Users\\exp202207\\AppData\\Local\\Temp\\ipykernel_3528\\2251890180.py:97: PerformanceWarning: indexing past lexsort depth may impact performance.\n",
      "  prefer_fire=temp_df.loc[('1. 소각할 주식의 종류와 수','종류주식 (주)'),2]\n"
     ]
    },
    {
     "data": {
      "text/html": [
       "<div>\n",
       "<style scoped>\n",
       "    .dataframe tbody tr th:only-of-type {\n",
       "        vertical-align: middle;\n",
       "    }\n",
       "\n",
       "    .dataframe tbody tr th {\n",
       "        vertical-align: top;\n",
       "    }\n",
       "\n",
       "    .dataframe thead th {\n",
       "        text-align: right;\n",
       "    }\n",
       "</style>\n",
       "<table border=\"1\" class=\"dataframe\">\n",
       "  <thead>\n",
       "    <tr style=\"text-align: right;\">\n",
       "      <th></th>\n",
       "      <th>name</th>\n",
       "      <th>announce_date</th>\n",
       "      <th>common_stock_listed</th>\n",
       "      <th>common_stock_fire</th>\n",
       "      <th>prefer_stock_listed</th>\n",
       "      <th>prefer_stock_fire</th>\n",
       "    </tr>\n",
       "    <tr>\n",
       "      <th>code</th>\n",
       "      <th></th>\n",
       "      <th></th>\n",
       "      <th></th>\n",
       "      <th></th>\n",
       "      <th></th>\n",
       "      <th></th>\n",
       "    </tr>\n",
       "  </thead>\n",
       "  <tbody>\n",
       "    <tr>\n",
       "      <th>A111110</th>\n",
       "      <td>호전실업</td>\n",
       "      <td>2022-12-14</td>\n",
       "      <td>9749984.0</td>\n",
       "      <td>0.0</td>\n",
       "      <td>641975.0</td>\n",
       "      <td>641975.0</td>\n",
       "    </tr>\n",
       "    <tr>\n",
       "      <th>A002840</th>\n",
       "      <td>미원상사</td>\n",
       "      <td>2022-12-14</td>\n",
       "      <td>4970000.0</td>\n",
       "      <td>120000.0</td>\n",
       "      <td>0.0</td>\n",
       "      <td>0.0</td>\n",
       "    </tr>\n",
       "    <tr>\n",
       "      <th>A214330</th>\n",
       "      <td>금호에이치티</td>\n",
       "      <td>2022-12-13</td>\n",
       "      <td>201042738.0</td>\n",
       "      <td>5000000.0</td>\n",
       "      <td>31825.0</td>\n",
       "      <td>0.0</td>\n",
       "    </tr>\n",
       "    <tr>\n",
       "      <th>A003160</th>\n",
       "      <td>디아이</td>\n",
       "      <td>2022-12-07</td>\n",
       "      <td>31496785.0</td>\n",
       "      <td>3196785.0</td>\n",
       "      <td>0.0</td>\n",
       "      <td>0.0</td>\n",
       "    </tr>\n",
       "    <tr>\n",
       "      <th>A000060</th>\n",
       "      <td>메리츠화재</td>\n",
       "      <td>2022-11-24</td>\n",
       "      <td>113783000.0</td>\n",
       "      <td>2678930.0</td>\n",
       "      <td>0.0</td>\n",
       "      <td>0.0</td>\n",
       "    </tr>\n",
       "    <tr>\n",
       "      <th>...</th>\n",
       "      <td>...</td>\n",
       "      <td>...</td>\n",
       "      <td>...</td>\n",
       "      <td>...</td>\n",
       "      <td>...</td>\n",
       "      <td>...</td>\n",
       "    </tr>\n",
       "    <tr>\n",
       "      <th>A007980</th>\n",
       "      <td>태평양물산</td>\n",
       "      <td>2020-02-20</td>\n",
       "      <td>49911742.0</td>\n",
       "      <td>1762155.0</td>\n",
       "      <td>0.0</td>\n",
       "      <td>0.0</td>\n",
       "    </tr>\n",
       "    <tr>\n",
       "      <th>A003000</th>\n",
       "      <td>부광약품</td>\n",
       "      <td>2020-02-12</td>\n",
       "      <td>63531367.0</td>\n",
       "      <td>1740937.0</td>\n",
       "      <td>0.0</td>\n",
       "      <td>0.0</td>\n",
       "    </tr>\n",
       "    <tr>\n",
       "      <th>A267250</th>\n",
       "      <td>HD현대</td>\n",
       "      <td>2020-02-06</td>\n",
       "      <td>16286617.0</td>\n",
       "      <td>488000.0</td>\n",
       "      <td>0.0</td>\n",
       "      <td>0.0</td>\n",
       "    </tr>\n",
       "    <tr>\n",
       "      <th>A012330</th>\n",
       "      <td>현대모비스</td>\n",
       "      <td>2020-01-30</td>\n",
       "      <td>95306694.0</td>\n",
       "      <td>252000.0</td>\n",
       "      <td>3974.0</td>\n",
       "      <td>0.0</td>\n",
       "    </tr>\n",
       "    <tr>\n",
       "      <th>A042700</th>\n",
       "      <td>한미반도체</td>\n",
       "      <td>2020-01-22</td>\n",
       "      <td>57223890.0</td>\n",
       "      <td>5722389.0</td>\n",
       "      <td>0.0</td>\n",
       "      <td>0.0</td>\n",
       "    </tr>\n",
       "  </tbody>\n",
       "</table>\n",
       "<p>78 rows × 6 columns</p>\n",
       "</div>"
      ],
      "text/plain": [
       "            name announce_date  common_stock_listed  common_stock_fire  \\\n",
       "code                                                                     \n",
       "A111110    호전실업     2022-12-14            9749984.0                0.0   \n",
       "A002840    미원상사     2022-12-14            4970000.0           120000.0   \n",
       "A214330  금호에이치티     2022-12-13          201042738.0          5000000.0   \n",
       "A003160     디아이     2022-12-07           31496785.0          3196785.0   \n",
       "A000060   메리츠화재     2022-11-24          113783000.0          2678930.0   \n",
       "...          ...           ...                  ...                ...   \n",
       "A007980   태평양물산     2020-02-20           49911742.0          1762155.0   \n",
       "A003000    부광약품     2020-02-12           63531367.0          1740937.0   \n",
       "A267250    HD현대     2020-02-06           16286617.0           488000.0   \n",
       "A012330   현대모비스     2020-01-30           95306694.0           252000.0   \n",
       "A042700   한미반도체     2020-01-22           57223890.0          5722389.0   \n",
       "\n",
       "         prefer_stock_listed  prefer_stock_fire  \n",
       "code                                             \n",
       "A111110             641975.0           641975.0  \n",
       "A002840                  0.0                0.0  \n",
       "A214330              31825.0                0.0  \n",
       "A003160                  0.0                0.0  \n",
       "A000060                  0.0                0.0  \n",
       "...                      ...                ...  \n",
       "A007980                  0.0                0.0  \n",
       "A003000                  0.0                0.0  \n",
       "A267250                  0.0                0.0  \n",
       "A012330               3974.0                0.0  \n",
       "A042700                  0.0                0.0  \n",
       "\n",
       "[78 rows x 6 columns]"
      ]
     },
     "execution_count": 9,
     "metadata": {},
     "output_type": "execute_result"
    }
   ],
   "source": [
    "df=pd.DataFrame(columns=['code','name','announce_date','total_ratio'])\n",
    "tickers=list()\n",
    "announce_date=list()\n",
    "name=list()\n",
    "ratio_list=list() \n",
    "common_stock_fire=list()\n",
    "common_stock_listed=list()\n",
    "prefer_stock_fire=list()\n",
    "prefer_stock_listed=list()\n",
    "\n",
    "\n",
    "\n",
    "if len(fire_dict2.keys()) !=0:\n",
    "    for report_code in fire_dict2.keys():\n",
    "        #if '정정' in reassess_dict[report_code][1]: \n",
    "        \n",
    "        if '자회사' not in fire_dict2[report_code][1]:\n",
    "        \n",
    "            announce_date.append(fire_dict2[report_code][0])\n",
    "            new_url_temp= \"https://kind.krx.co.kr/common/disclsviewer.do?method=search&acptno=\" + report_code + \"&docno=&viewerhost=&viewerport#viewer\"\n",
    "            res=request.urlopen(new_url_temp)\n",
    "            soup = BeautifulSoup(res, \"lxml\")\n",
    "\n",
    "\n",
    "            nth_options=str(soup.select('#mainDoc')[0]).count('</option>')\n",
    "            tag1 = soup.select(f'#mainDoc > option:nth-of-type({nth_options})')\n",
    "            code_name=soup.find('h1',attrs={'class':'ttl type-99 fleft'}).text ###이름 하고 기업 코드 추출\n",
    "\n",
    "            company_name,company_code=code_name.split('(')\n",
    "            name.append(company_name)\n",
    "            company_code=company_code[:-1]\n",
    "            company_code='A'+company_code\n",
    "            tickers.append(company_code)\n",
    "\n",
    "            x = tag1[0]\n",
    "            key_text = x.get(\"value\")\n",
    "            key_report_dir = key_text[0:14]\n",
    "            #print(key_report_dir)\n",
    "            new_url=f'https://kind.krx.co.kr/external/{report_code[:4]}/{report_code[4:6]}/{report_code[6:8]}/{report_code[8:14]}/{key_report_dir}/71131.htm'\n",
    "\n",
    "\n",
    "            try:\n",
    "                res=request.urlopen(new_url)\n",
    "                df=pd.read_html(new_url)\n",
    "            except HTTPError as e:\n",
    "                print(e)\n",
    "            time.sleep(0.05)\n",
    "            try:\n",
    "                new_url=f'https://kind.krx.co.kr/external/{report_code[:4]}/{report_code[4:6]}/{report_code[6:8]}/{report_code[8:14]}/{key_report_dir}/61131.htm'\n",
    "                df=pd.read_html(new_url)\n",
    "            except HTTPError as e:\n",
    "                print(e)\n",
    "\n",
    "            time.sleep(0.05)\n",
    "#             try:\n",
    "#                 new_url=f'https://kind.krx.co.kr/external/{report_code[:4]}/{report_code[4:6]}/{report_code[6:8]}/{report_code[8:14]}/{key_report_dir}/61361.htm'\n",
    "#                 df=pd.read_html(new_url)\n",
    "#             except HTTPError as e:\n",
    "#                 print(e)\n",
    "#             time.sleep(0.05)\n",
    "#             try:\n",
    "#                 new_url=f'https://kind.krx.co.kr/external/{report_code[:4]}/{report_code[4:6]}/{report_code[6:8]}/{report_code[8:14]}/{key_report_dir}/99111.htm'\n",
    "#                 df=pd.read_html(new_url)\n",
    "#             except HTTPError as e:\n",
    "#                 print(e)\n",
    "\n",
    "\n",
    "\n",
    "\n",
    "\n",
    "\n",
    "\n",
    "\n",
    "                # soup=BeautifulSoup(res,'lxml')\n",
    "                # temps_ratio=soup.select_one('#XFormD1_Form0_Table0 > tbody > tr:nth-child(4) > td:nth-child(2) > span').text\n",
    "                # if len(temps_ratio)<6:\n",
    "                #     ratio=float(temps_ratio)\n",
    "                # else:\n",
    "                #     temps_ratio=soup.select_one(' #XFormD1_Form0_Table0 > tbody > tr:nth-child(5) > td:nth-child(2) > span').text\n",
    "                #     ratio=float(temps_ratio)\n",
    "\n",
    "\n",
    "            for i in range(len(df)):\n",
    "                temp_df=df[i]\n",
    "                try:\n",
    "                    if len(temp_df)>3:\n",
    "                        temp_df=temp_df.set_index([0,1])\n",
    "    #                     if '자기자본대비(%)' in temp_df.index:\n",
    "    #                         ratio=temp_df.loc['자기자본대비(%)',2]\n",
    "    #                         ratio=ratio.replace('-','0')\n",
    "    #                         ratio_list.append(float(ratio))\n",
    "                        temp_df=temp_df.replace('-','0')\n",
    "                        temp_df=temp_df.replace(',','')\n",
    "                        common_stock=temp_df.loc[('2. 발행주식 총수','보통주식 (주)'),2]\n",
    "                        common_fire=temp_df.loc[('1. 소각할 주식의 종류와 수','보통주식 (주)'),2]\n",
    "                        prefer_stock=temp_df.loc[('2. 발행주식 총수','종류주식 (주)'),2]\n",
    "                        prefer_fire=temp_df.loc[('1. 소각할 주식의 종류와 수','종류주식 (주)'),2]\n",
    "                        stocks=[common_stock,common_fire,prefer_stock,prefer_fire]\n",
    "    #                     for stock in stocks:\n",
    "    #                         print(stock)\n",
    "    #                         stock=stock.replace('-','0')\n",
    "    #                         stock=stock.replace(',','')\n",
    "\n",
    "\n",
    "\n",
    "                        common_stock_listed.append(float(common_stock))\n",
    "                        prefer_stock_listed.append(float(prefer_stock))\n",
    "                        common_stock_fire.append(float(common_fire))\n",
    "                        prefer_stock_fire.append(float(prefer_fire))\n",
    "                except Exception as e:\n",
    "                    print(e)\n",
    "            \n",
    "            # if len(df)>1:\n",
    "            #     ratio=float(df[1].loc[4,2])\n",
    "                \n",
    "            # else:\n",
    "            #     ratio=float(df[0].loc[4,2])\n",
    "            # ratio_list.append(ratio)\n",
    "            \n",
    "            \n",
    "data={'code':tickers,'name':name,'announce_date':announce_date,\n",
    "        'common_stock_listed':common_stock_listed,'common_stock_fire':common_stock_fire,'prefer_stock_listed':prefer_stock_listed,\n",
    "     'prefer_stock_fire':prefer_stock_fire}\n",
    "new_df=pd.DataFrame(data,columns=['code','name','announce_date','common_stock_listed','common_stock_fire','prefer_stock_listed','prefer_stock_fire'])\n",
    "        \n",
    "new_df=new_df.set_index('code')\n",
    "new_df"
   ]
  },
  {
   "cell_type": "code",
   "execution_count": 10,
   "id": "fc3f2596",
   "metadata": {
    "ExecuteTime": {
     "end_time": "2023-01-05T08:29:29.875849Z",
     "start_time": "2023-01-05T08:29:29.859891Z"
    }
   },
   "outputs": [],
   "source": [
    "data={'code':tickers,'name':name,'announce_date':announce_date,\n",
    "        'common_stock_listed':common_stock_listed,'common_stock_fire':common_stock_fire,'prefer_stock_listed':prefer_stock_listed,\n",
    "     'prefer_stock_fire':prefer_stock_fire}\n",
    "new_df=pd.DataFrame(data,columns=['code','name','announce_date','common_stock_listed','common_stock_fire','prefer_stock_listed','prefer_stock_fire'])\n",
    "        \n",
    "new_df=new_df.set_index('code')\n",
    "new_df.to_csv('kospi_fire2.csv')"
   ]
  },
  {
   "attachments": {},
   "cell_type": "markdown",
   "id": "159a7dfb",
   "metadata": {},
   "source": [
    "# 코스닥 소각주 크롤링"
   ]
  },
  {
   "cell_type": "code",
   "execution_count": 11,
   "id": "79df635d",
   "metadata": {
    "ExecuteTime": {
     "end_time": "2023-01-06T00:11:29.125545Z",
     "start_time": "2023-01-06T00:10:55.398818Z"
    }
   },
   "outputs": [
    {
     "name": "stderr",
     "output_type": "stream",
     "text": [
      "C:\\Users\\exp202207\\AppData\\Local\\Temp\\ipykernel_3528\\4246253026.py:3: DeprecationWarning: executable_path has been deprecated, please pass in a Service object\n",
      "  driver=webdriver.Chrome(ChromeDriverManager().install())\n"
     ]
    }
   ],
   "source": [
    "url='http://kind.krx.co.kr/disclosure/details.do?method=searchDetailsMain'\n",
    "path=os.getcwd()\n",
    "driver=webdriver.Chrome(ChromeDriverManager().install())\n",
    "driver.get(url)\n",
    "time.sleep(2)\n",
    "\n",
    "\n",
    "\n",
    "# url='http://kind.krx.co.kr/disclosure/details.do?method=searchDetailsMain'\n",
    "# path=os.getcwd()\n",
    "# driver=webdriver.Chrome(ChromeDriverManager().install())\n",
    "# driver.get(url)\n",
    "# time.sleep(2)\n",
    "####공시 100 페이지로 늘리기\n",
    "#driver.find_element(By.XPATH,'//*[@id=\"currentPageSize\"]').click()\n",
    "driver.find_element(By.XPATH,'//*[@id=\"currentPageSize\"]/option[4]').click()\n",
    "driver.find_element(By.XPATH,'//*[@id=\"main-contents\"]/section[2]/div[2]/a').click()\n",
    "\n",
    "\n",
    "driver.find_element(By.XPATH,'//*[@id=\"search-btn-dates\"]/ul/li[7]/a').click()\n",
    "\n",
    "driver.find_element(By.XPATH,'//*[@id=\"searchForm\"]/section[1]/div/div[3]/a[1]').click()\n",
    "time.sleep(7)\n",
    "driver.find_element(By.XPATH,'//*[@id=\"rKosdaq\"]').click()###코스닥 여부\n",
    "time.sleep(5)\n",
    "driver.find_element(By.XPATH,'//*[@id=\"dsclsType01\"]').click()###수시공시 클릭\n",
    "driver.find_element(By.XPATH,'//*[@id=\"dsclsLayer01_47\"]').click()### 주식 소각 클릭\n",
    "driver.find_element(By.XPATH,'//*[@id=\"searchForm\"]/section[1]/div/div[3]/a[1]').click()## 검색 클릭\n",
    "time.sleep(2)\n",
    "\n",
    "\n",
    "\n",
    "\n",
    "\n",
    "###총 몇페이지인지\n",
    "last_page=np.ceil(int(driver.find_element(By.XPATH,'//*[@id=\"main-contents\"]/section[2]/div[2]/em').text)/100)\n",
    "fire_dict=dict()\n",
    "while True:\n",
    "    \n",
    "    ####현재 몇페이지 인지\n",
    "    now_page=int(driver.find_element(By.XPATH,'//*[@id=\"main-contents\"]/section[2]/div[2]/strong').text)\n",
    "    \n",
    "    \n",
    "    ####현 페이지에서 제일 큰 공시번호 \n",
    "    num=driver.find_element(By.XPATH,'//*[@id=\"main-contents\"]/section[1]/table/tbody/tr[1]/td[1]').text\n",
    "    num=int(num)\n",
    "    X_path_list=[]####공시 제목 XPATH\n",
    "    #infra_dict=dict()\n",
    "    company_name_data=driver.find_elements(By.XPATH,f'//*[@id=\"companysum\"]')\n",
    "    \n",
    "    \n",
    "    if now_page<last_page:\n",
    "        spread=100\n",
    "    elif now_page==last_page:\n",
    "        spread=int(driver.find_element(By.XPATH,'//*[@id=\"main-contents\"]/section[2]/div[2]/em').text)%100\n",
    "    \n",
    "    time.sleep(2)\n",
    "    for i in range(1,spread+1):\n",
    "        X_path_list.append(f'//*[@id=\"main-contents\"]/section[1]/table/tbody/tr[{i}]/td[4]/a')\n",
    "        date=driver.find_element(By.XPATH,f'//*[@id=\"main-contents\"]/section[1]/table/tbody/tr[{i}]/td[2]').text\n",
    "        date=date[:10]\n",
    "        #time.sleep(1)\n",
    "        temp_company_name=company_name_data[i-1].text\n",
    "        report_code=driver.find_element(By.XPATH,X_path_list[i-1]).get_attribute(\"onclick\")#### 공시레포트 코드 가져오기\n",
    "        c_index = report_code.find(\"(\") # 키 값 파싱\n",
    "        ind_code_r = report_code[(c_index+2):(c_index+2+14)]\n",
    "        temp_tag=driver.find_element(By.XPATH,f'//*[@id=\"main-contents\"]/section[1]/table/tbody/tr[{i}]/td[4]/a').text\n",
    "        fire_dict[ind_code_r]=(date,temp_tag+temp_company_name)\n",
    "        #print(fire_dict)\n",
    "    \n",
    "    #driver.find_element(By.XPATH,'//*[@id=\"main-contents\"]/section[2]/div[1]/a[12]').click()\n",
    "    \n",
    "    \n",
    "    driver.find_element(By.XPATH,'//*[@id=\"main-contents\"]/section[2]/div[1]/a[5]').click()\n",
    "  \n",
    "    time.sleep(2)\n",
    "    if now_page==last_page: break\n",
    "\n",
    "convert_fire_dict={v:k for k,v in fire_dict.items()}\n",
    "flag_list=[ flag for flag in fire_dict.values() if '정정' in flag[1]]\n",
    "fire_dict2=fire_dict.copy()\n",
    "for temp_fire in fire_dict.values():\n",
    "    for fire_two in flag_list:\n",
    "\n",
    "        if (temp_fire[1] in fire_two[1]) and ('정정' not in temp_fire[1]):\n",
    "            #print(temp_infra[1])\n",
    "            try:\n",
    "                fire_dict2.pop(convert_fire_dict[temp_fire])\n",
    "            except Exception as e:\n",
    "                print(e)    \n",
    "                \n",
    "                \n",
    "                \n",
    "df=pd.DataFrame(columns=['code','name','announce_date','total_ratio'])\n",
    "tickers=list()\n",
    "announce_date=list()\n",
    "name=list()\n",
    "ratio_list=list()"
   ]
  },
  {
   "cell_type": "code",
   "execution_count": 12,
   "id": "afac6744",
   "metadata": {
    "ExecuteTime": {
     "end_time": "2023-01-06T00:22:43.433594Z",
     "start_time": "2023-01-06T00:21:56.582104Z"
    }
   },
   "outputs": [
    {
     "name": "stdout",
     "output_type": "stream",
     "text": [
      "HTTP Error 404: Not Found\n",
      "HTTP Error 404: Not Found\n",
      "HTTP Error 404: Not Found\n",
      "could not convert string to float: '기재오류'\n",
      "HTTP Error 404: Not Found\n",
      "HTTP Error 404: Not Found\n",
      "HTTP Error 404: Not Found\n",
      "could not convert string to float: '1주당 가액 기재오류 정정'\n",
      "HTTP Error 404: Not Found\n",
      "HTTP Error 404: Not Found\n",
      "HTTP Error 404: Not Found\n",
      "HTTP Error 404: Not Found\n",
      "HTTP Error 404: Not Found\n",
      "HTTP Error 404: Not Found\n",
      "HTTP Error 404: Not Found\n",
      "HTTP Error 404: Not Found\n",
      "HTTP Error 404: Not Found\n",
      "could not convert string to float: '소각예정일을 무상증자 추가상장일 이후로 변경함'\n",
      "HTTP Error 404: Not Found\n",
      "HTTP Error 404: Not Found\n",
      "HTTP Error 404: Not Found\n",
      "HTTP Error 404: Not Found\n",
      "HTTP Error 404: Not Found\n",
      "HTTP Error 404: Not Found\n",
      "HTTP Error 404: Not Found\n",
      "HTTP Error 404: Not Found\n",
      "HTTP Error 404: Not Found\n",
      "HTTP Error 404: Not Found\n",
      "HTTP Error 404: Not Found\n",
      "HTTP Error 404: Not Found\n",
      "HTTP Error 404: Not Found\n",
      "HTTP Error 404: Not Found\n",
      "HTTP Error 404: Not Found\n",
      "HTTP Error 404: Not Found\n",
      "HTTP Error 404: Not Found\n",
      "could not convert string to float: '기재오류 수정'\n",
      "HTTP Error 404: Not Found\n",
      "HTTP Error 404: Not Found\n",
      "HTTP Error 404: Not Found\n",
      "HTTP Error 404: Not Found\n",
      "HTTP Error 404: Not Found\n",
      "HTTP Error 404: Not Found\n",
      "HTTP Error 404: Not Found\n",
      "HTTP Error 404: Not Found\n",
      "HTTP Error 404: Not Found\n",
      "HTTP Error 404: Not Found\n",
      "HTTP Error 404: Not Found\n",
      "HTTP Error 404: Not Found\n",
      "HTTP Error 404: Not Found\n",
      "HTTP Error 404: Not Found\n",
      "HTTP Error 404: Not Found\n",
      "HTTP Error 404: Not Found\n",
      "HTTP Error 404: Not Found\n",
      "could not convert string to float: '소각할 주식수 및 소각일 확정에 따른 정정'\n",
      "HTTP Error 404: Not Found\n",
      "HTTP Error 404: Not Found\n",
      "HTTP Error 404: Not Found\n",
      "could not convert string to float: '주식 소각금액 및 주식 소각일 정정'\n",
      "HTTP Error 404: Not Found\n",
      "could not convert string to float: '주가변동에 따른 소각금액 변경 및 소각일 정정'\n",
      "HTTP Error 404: Not Found\n",
      "could not convert string to float: '주가 변동에 따른 소각금액 변경 및 소각일 정정'\n",
      "HTTP Error 404: Not Found\n",
      "could not convert string to float: '자기주식 취득완료 및 주가 변동에 따른 소각예정금액 변경 등'\n",
      "HTTP Error 404: Not Found\n",
      "HTTP Error 404: Not Found\n",
      "HTTP Error 404: Not Found\n",
      "HTTP Error 404: Not Found\n",
      "HTTP Error 404: Not Found\n",
      "HTTP Error 404: Not Found\n",
      "HTTP Error 404: Not Found\n",
      "could not convert string to float: '공개매수 청약에 참여주식수가 없음에 따라 소각주식수, 소각예정금액 등 변경'\n"
     ]
    },
    {
     "data": {
      "text/html": [
       "<div>\n",
       "<style scoped>\n",
       "    .dataframe tbody tr th:only-of-type {\n",
       "        vertical-align: middle;\n",
       "    }\n",
       "\n",
       "    .dataframe tbody tr th {\n",
       "        vertical-align: top;\n",
       "    }\n",
       "\n",
       "    .dataframe thead th {\n",
       "        text-align: right;\n",
       "    }\n",
       "</style>\n",
       "<table border=\"1\" class=\"dataframe\">\n",
       "  <thead>\n",
       "    <tr style=\"text-align: right;\">\n",
       "      <th></th>\n",
       "      <th>name</th>\n",
       "      <th>announce_date</th>\n",
       "      <th>common_stock_listed</th>\n",
       "      <th>common_stock_fire</th>\n",
       "      <th>prefer_stock_listed</th>\n",
       "      <th>prefer_stock_fire</th>\n",
       "    </tr>\n",
       "    <tr>\n",
       "      <th>code</th>\n",
       "      <th></th>\n",
       "      <th></th>\n",
       "      <th></th>\n",
       "      <th></th>\n",
       "      <th></th>\n",
       "      <th></th>\n",
       "    </tr>\n",
       "  </thead>\n",
       "  <tbody>\n",
       "    <tr>\n",
       "      <th>A086960</th>\n",
       "      <td>MDS테크</td>\n",
       "      <td>2022-12-19</td>\n",
       "      <td>22231520.0</td>\n",
       "      <td>1499796.0</td>\n",
       "      <td>0.0</td>\n",
       "      <td>0.0</td>\n",
       "    </tr>\n",
       "    <tr>\n",
       "      <th>A052400</th>\n",
       "      <td>코나아이</td>\n",
       "      <td>2022-12-14</td>\n",
       "      <td>15559118.0</td>\n",
       "      <td>559119.0</td>\n",
       "      <td>0.0</td>\n",
       "      <td>0.0</td>\n",
       "    </tr>\n",
       "    <tr>\n",
       "      <th>A097780</th>\n",
       "      <td>에스맥</td>\n",
       "      <td>2022-12-13</td>\n",
       "      <td>56704050.0</td>\n",
       "      <td>3054269.0</td>\n",
       "      <td>0.0</td>\n",
       "      <td>0.0</td>\n",
       "    </tr>\n",
       "    <tr>\n",
       "      <th>A061250</th>\n",
       "      <td>화일약품</td>\n",
       "      <td>2022-12-13</td>\n",
       "      <td>68052006.0</td>\n",
       "      <td>1519180.0</td>\n",
       "      <td>0.0</td>\n",
       "      <td>0.0</td>\n",
       "    </tr>\n",
       "    <tr>\n",
       "      <th>A052420</th>\n",
       "      <td>오성첨단소재</td>\n",
       "      <td>2022-12-12</td>\n",
       "      <td>72167744.0</td>\n",
       "      <td>2650000.0</td>\n",
       "      <td>0.0</td>\n",
       "      <td>0.0</td>\n",
       "    </tr>\n",
       "    <tr>\n",
       "      <th>...</th>\n",
       "      <td>...</td>\n",
       "      <td>...</td>\n",
       "      <td>...</td>\n",
       "      <td>...</td>\n",
       "      <td>...</td>\n",
       "      <td>...</td>\n",
       "    </tr>\n",
       "    <tr>\n",
       "      <th>A067010</th>\n",
       "      <td>이씨에스</td>\n",
       "      <td>2020-02-17</td>\n",
       "      <td>6591190.0</td>\n",
       "      <td>444190.0</td>\n",
       "      <td>0.0</td>\n",
       "      <td>0.0</td>\n",
       "    </tr>\n",
       "    <tr>\n",
       "      <th>A067570</th>\n",
       "      <td>엔브이에이치코리아</td>\n",
       "      <td>2020-02-14</td>\n",
       "      <td>29374393.0</td>\n",
       "      <td>375492.0</td>\n",
       "      <td>0.0</td>\n",
       "      <td>0.0</td>\n",
       "    </tr>\n",
       "    <tr>\n",
       "      <th>A067570</th>\n",
       "      <td>엔브이에이치코리아</td>\n",
       "      <td>2020-02-13</td>\n",
       "      <td>28998901.0</td>\n",
       "      <td>276679.0</td>\n",
       "      <td>0.0</td>\n",
       "      <td>0.0</td>\n",
       "    </tr>\n",
       "    <tr>\n",
       "      <th>A222800</th>\n",
       "      <td>심텍</td>\n",
       "      <td>2020-02-04</td>\n",
       "      <td>22752959.0</td>\n",
       "      <td>0.0</td>\n",
       "      <td>398405.0</td>\n",
       "      <td>398405.0</td>\n",
       "    </tr>\n",
       "    <tr>\n",
       "      <th>A025770</th>\n",
       "      <td>한국정보통신</td>\n",
       "      <td>2020-01-31</td>\n",
       "      <td>38014402.0</td>\n",
       "      <td>570131.0</td>\n",
       "      <td>0.0</td>\n",
       "      <td>0.0</td>\n",
       "    </tr>\n",
       "  </tbody>\n",
       "</table>\n",
       "<p>62 rows × 6 columns</p>\n",
       "</div>"
      ],
      "text/plain": [
       "               name announce_date  common_stock_listed  common_stock_fire  \\\n",
       "code                                                                        \n",
       "A086960      MDS테크     2022-12-19           22231520.0          1499796.0   \n",
       "A052400       코나아이     2022-12-14           15559118.0           559119.0   \n",
       "A097780        에스맥     2022-12-13           56704050.0          3054269.0   \n",
       "A061250       화일약품     2022-12-13           68052006.0          1519180.0   \n",
       "A052420     오성첨단소재     2022-12-12           72167744.0          2650000.0   \n",
       "...             ...           ...                  ...                ...   \n",
       "A067010       이씨에스     2020-02-17            6591190.0           444190.0   \n",
       "A067570  엔브이에이치코리아     2020-02-14           29374393.0           375492.0   \n",
       "A067570  엔브이에이치코리아     2020-02-13           28998901.0           276679.0   \n",
       "A222800         심텍     2020-02-04           22752959.0                0.0   \n",
       "A025770     한국정보통신     2020-01-31           38014402.0           570131.0   \n",
       "\n",
       "         prefer_stock_listed  prefer_stock_fire  \n",
       "code                                             \n",
       "A086960                  0.0                0.0  \n",
       "A052400                  0.0                0.0  \n",
       "A097780                  0.0                0.0  \n",
       "A061250                  0.0                0.0  \n",
       "A052420                  0.0                0.0  \n",
       "...                      ...                ...  \n",
       "A067010                  0.0                0.0  \n",
       "A067570                  0.0                0.0  \n",
       "A067570                  0.0                0.0  \n",
       "A222800             398405.0           398405.0  \n",
       "A025770                  0.0                0.0  \n",
       "\n",
       "[62 rows x 6 columns]"
      ]
     },
     "execution_count": 12,
     "metadata": {},
     "output_type": "execute_result"
    }
   ],
   "source": [
    "df=pd.DataFrame(columns=['code','name','announce_date','total_ratio'])\n",
    "tickers=list()\n",
    "announce_date=list()\n",
    "name=list()\n",
    "ratio_list=list() \n",
    "common_stock_fire=list()\n",
    "common_stock_listed=list()\n",
    "prefer_stock_fire=list()\n",
    "prefer_stock_listed=list()\n",
    "\n",
    "\n",
    "\n",
    "if len(fire_dict2.keys()) !=0:\n",
    "    for report_code in fire_dict2.keys():\n",
    "        #if '정정' in reassess_dict[report_code][1]: \n",
    "        \n",
    "        if '자회사' not in fire_dict2[report_code][1]:\n",
    "        \n",
    "            announce_date.append(fire_dict2[report_code][0])\n",
    "            new_url_temp= \"https://kind.krx.co.kr/common/disclsviewer.do?method=search&acptno=\" + report_code + \"&docno=&viewerhost=&viewerport#viewer\"\n",
    "            res=request.urlopen(new_url_temp)\n",
    "            soup = BeautifulSoup(res, \"lxml\")\n",
    "\n",
    "\n",
    "            nth_options=str(soup.select('#mainDoc')[0]).count('</option>')\n",
    "            tag1 = soup.select(f'#mainDoc > option:nth-of-type({nth_options})')\n",
    "            code_name=soup.find('h1',attrs={'class':'ttl type-99 fleft'}).text ###이름 하고 기업 코드 추출\n",
    "\n",
    "            company_name,company_code=code_name.split('(')\n",
    "            name.append(company_name)\n",
    "            company_code=company_code[:-1]\n",
    "            company_code='A'+company_code\n",
    "            tickers.append(company_code)\n",
    "\n",
    "            x = tag1[0]\n",
    "            key_text = x.get(\"value\")\n",
    "            key_report_dir = key_text[0:14]\n",
    "            #print(key_report_dir)\n",
    "            new_url=f'https://kind.krx.co.kr/external/{report_code[:4]}/{report_code[4:6]}/{report_code[6:8]}/{report_code[8:14]}/{key_report_dir}/71131.htm'\n",
    "\n",
    "\n",
    "            try:\n",
    "                res=request.urlopen(new_url)\n",
    "                df=pd.read_html(new_url)\n",
    "            except HTTPError as e:\n",
    "                print(e)\n",
    "            time.sleep(0.05)\n",
    "            try:\n",
    "                new_url=f'https://kind.krx.co.kr/external/{report_code[:4]}/{report_code[4:6]}/{report_code[6:8]}/{report_code[8:14]}/{key_report_dir}/61131.htm'\n",
    "                df=pd.read_html(new_url)\n",
    "            except HTTPError as e:\n",
    "                print(e)\n",
    "\n",
    "            time.sleep(0.05)\n",
    "#             try:\n",
    "#                 new_url=f'https://kind.krx.co.kr/external/{report_code[:4]}/{report_code[4:6]}/{report_code[6:8]}/{report_code[8:14]}/{key_report_dir}/61361.htm'\n",
    "#                 df=pd.read_html(new_url)\n",
    "#             except HTTPError as e:\n",
    "#                 print(e)\n",
    "#             time.sleep(0.05)\n",
    "#             try:\n",
    "#                 new_url=f'https://kind.krx.co.kr/external/{report_code[:4]}/{report_code[4:6]}/{report_code[6:8]}/{report_code[8:14]}/{key_report_dir}/99111.htm'\n",
    "#                 df=pd.read_html(new_url)\n",
    "#             except HTTPError as e:\n",
    "#                 print(e)\n",
    "\n",
    "\n",
    "\n",
    "\n",
    "\n",
    "\n",
    "\n",
    "\n",
    "                # soup=BeautifulSoup(res,'lxml')\n",
    "                # temps_ratio=soup.select_one('#XFormD1_Form0_Table0 > tbody > tr:nth-child(4) > td:nth-child(2) > span').text\n",
    "                # if len(temps_ratio)<6:\n",
    "                #     ratio=float(temps_ratio)\n",
    "                # else:\n",
    "                #     temps_ratio=soup.select_one(' #XFormD1_Form0_Table0 > tbody > tr:nth-child(5) > td:nth-child(2) > span').text\n",
    "                #     ratio=float(temps_ratio)\n",
    "\n",
    "\n",
    "            for i in range(len(df)):\n",
    "                temp_df=df[i]\n",
    "                try:\n",
    "                    if len(temp_df)>3:\n",
    "                        temp_df=temp_df.set_index([0,1])\n",
    "    #                     if '자기자본대비(%)' in temp_df.index:\n",
    "    #                         ratio=temp_df.loc['자기자본대비(%)',2]\n",
    "    #                         ratio=ratio.replace('-','0')\n",
    "    #                         ratio_list.append(float(ratio))\n",
    "                        temp_df=temp_df.replace('-','0')\n",
    "                        temp_df=temp_df.replace(',','')\n",
    "                        common_stock=temp_df.iloc[2,0]\n",
    "                        common_fire=temp_df.iloc[0,0]\n",
    "                        prefer_stock=temp_df.iloc[3,0]\n",
    "                        prefer_fire=temp_df.iloc[1,0]\n",
    "                        stocks=[common_stock,common_fire,prefer_stock,prefer_fire]\n",
    "    #                     for stock in stocks:\n",
    "    #                         print(stock)\n",
    "    #                         stock=stock.replace('-','0')\n",
    "    #                         stock=stock.replace(',','')\n",
    "\n",
    "\n",
    "\n",
    "                        common_stock_listed.append(float(common_stock))\n",
    "                        prefer_stock_listed.append(float(prefer_stock))\n",
    "                        common_stock_fire.append(float(common_fire))\n",
    "                        prefer_stock_fire.append(float(prefer_fire))\n",
    "                except Exception as e:\n",
    "                    print(e)\n",
    "            \n",
    "            # if len(df)>1:\n",
    "            #     ratio=float(df[1].loc[4,2])\n",
    "                \n",
    "            # else:\n",
    "            #     ratio=float(df[0].loc[4,2])\n",
    "            # ratio_list.append(ratio)\n",
    "            \n",
    "            \n",
    "data={'code':tickers,'name':name,'announce_date':announce_date,\n",
    "        'common_stock_listed':common_stock_listed,'common_stock_fire':common_stock_fire,'prefer_stock_listed':prefer_stock_listed,\n",
    "     'prefer_stock_fire':prefer_stock_fire}\n",
    "new_df=pd.DataFrame(data,columns=['code','name','announce_date','common_stock_listed','common_stock_fire','prefer_stock_listed','prefer_stock_fire'])\n",
    "        \n",
    "new_df=new_df.set_index('code')\n",
    "new_df"
   ]
  },
  {
   "cell_type": "code",
   "execution_count": 13,
   "id": "02eeba4e",
   "metadata": {
    "ExecuteTime": {
     "end_time": "2023-01-06T00:24:05.388666Z",
     "start_time": "2023-01-06T00:24:05.364730Z"
    }
   },
   "outputs": [],
   "source": [
    "new_df.to_csv('kosdaq_fire2.csv')"
   ]
  },
  {
   "cell_type": "code",
   "execution_count": 24,
   "id": "10b3345f",
   "metadata": {
    "ExecuteTime": {
     "end_time": "2023-01-06T00:54:54.599827Z",
     "start_time": "2023-01-06T00:54:54.593844Z"
    }
   },
   "outputs": [
    {
     "data": {
      "text/plain": [
       "77"
      ]
     },
     "execution_count": 24,
     "metadata": {},
     "output_type": "execute_result"
    }
   ],
   "source": [
    "len(fire_dict2.keys())"
   ]
  },
  {
   "cell_type": "code",
   "execution_count": 28,
   "id": "243af4e2",
   "metadata": {
    "ExecuteTime": {
     "end_time": "2023-01-06T00:59:31.095007Z",
     "start_time": "2023-01-06T00:59:31.068080Z"
    }
   },
   "outputs": [
    {
     "data": {
      "text/html": [
       "<div>\n",
       "<style scoped>\n",
       "    .dataframe tbody tr th:only-of-type {\n",
       "        vertical-align: middle;\n",
       "    }\n",
       "\n",
       "    .dataframe tbody tr th {\n",
       "        vertical-align: top;\n",
       "    }\n",
       "\n",
       "    .dataframe thead th {\n",
       "        text-align: right;\n",
       "    }\n",
       "</style>\n",
       "<table border=\"1\" class=\"dataframe\">\n",
       "  <thead>\n",
       "    <tr style=\"text-align: right;\">\n",
       "      <th></th>\n",
       "      <th>name</th>\n",
       "      <th>announce_date</th>\n",
       "      <th>common_stock_listed</th>\n",
       "      <th>common_stock_fire</th>\n",
       "      <th>prefer_stock_listed</th>\n",
       "      <th>prefer_stock_fire</th>\n",
       "    </tr>\n",
       "    <tr>\n",
       "      <th>code</th>\n",
       "      <th></th>\n",
       "      <th></th>\n",
       "      <th></th>\n",
       "      <th></th>\n",
       "      <th></th>\n",
       "      <th></th>\n",
       "    </tr>\n",
       "  </thead>\n",
       "  <tbody>\n",
       "    <tr>\n",
       "      <th>A11110</th>\n",
       "      <td>호전실업</td>\n",
       "      <td>2022-12-14</td>\n",
       "      <td>9749984.0</td>\n",
       "      <td>0.0</td>\n",
       "      <td>641975.0</td>\n",
       "      <td>641975.0</td>\n",
       "    </tr>\n",
       "    <tr>\n",
       "      <th>A02840</th>\n",
       "      <td>미원상사</td>\n",
       "      <td>2022-12-14</td>\n",
       "      <td>4970000.0</td>\n",
       "      <td>120000.0</td>\n",
       "      <td>0.0</td>\n",
       "      <td>0.0</td>\n",
       "    </tr>\n",
       "    <tr>\n",
       "      <th>A14330</th>\n",
       "      <td>금호에이치티</td>\n",
       "      <td>2022-12-13</td>\n",
       "      <td>201042738.0</td>\n",
       "      <td>5000000.0</td>\n",
       "      <td>31825.0</td>\n",
       "      <td>0.0</td>\n",
       "    </tr>\n",
       "    <tr>\n",
       "      <th>A03160</th>\n",
       "      <td>디아이</td>\n",
       "      <td>2022-12-07</td>\n",
       "      <td>31496785.0</td>\n",
       "      <td>3196785.0</td>\n",
       "      <td>0.0</td>\n",
       "      <td>0.0</td>\n",
       "    </tr>\n",
       "    <tr>\n",
       "      <th>A00060</th>\n",
       "      <td>메리츠화재</td>\n",
       "      <td>2022-11-24</td>\n",
       "      <td>113783000.0</td>\n",
       "      <td>2678930.0</td>\n",
       "      <td>0.0</td>\n",
       "      <td>0.0</td>\n",
       "    </tr>\n",
       "    <tr>\n",
       "      <th>...</th>\n",
       "      <td>...</td>\n",
       "      <td>...</td>\n",
       "      <td>...</td>\n",
       "      <td>...</td>\n",
       "      <td>...</td>\n",
       "      <td>...</td>\n",
       "    </tr>\n",
       "    <tr>\n",
       "      <th>A67250</th>\n",
       "      <td>HD현대</td>\n",
       "      <td>2020-02-06</td>\n",
       "      <td>16286617.0</td>\n",
       "      <td>488000.0</td>\n",
       "      <td>0.0</td>\n",
       "      <td>0.0</td>\n",
       "    </tr>\n",
       "    <tr>\n",
       "      <th>A12330</th>\n",
       "      <td>현대모비스</td>\n",
       "      <td>2020-01-30</td>\n",
       "      <td>95306694.0</td>\n",
       "      <td>252000.0</td>\n",
       "      <td>3974.0</td>\n",
       "      <td>0.0</td>\n",
       "    </tr>\n",
       "    <tr>\n",
       "      <th>A35420</th>\n",
       "      <td>NAVER</td>\n",
       "      <td>2020-01-30</td>\n",
       "      <td>95306694.0</td>\n",
       "      <td>252000.0</td>\n",
       "      <td>3974.0</td>\n",
       "      <td>0.0</td>\n",
       "    </tr>\n",
       "    <tr>\n",
       "      <th>A42700</th>\n",
       "      <td>한미반도체</td>\n",
       "      <td>2020-01-22</td>\n",
       "      <td>57223890.0</td>\n",
       "      <td>5722389.0</td>\n",
       "      <td>0.0</td>\n",
       "      <td>0.0</td>\n",
       "    </tr>\n",
       "    <tr>\n",
       "      <th>A03000</th>\n",
       "      <td>부광약품</td>\n",
       "      <td>2020-01-08</td>\n",
       "      <td>57223890.0</td>\n",
       "      <td>5722389.0</td>\n",
       "      <td>0.0</td>\n",
       "      <td>0.0</td>\n",
       "    </tr>\n",
       "  </tbody>\n",
       "</table>\n",
       "<p>89 rows × 6 columns</p>\n",
       "</div>"
      ],
      "text/plain": [
       "           name announce_date  common_stock_listed  common_stock_fire  \\\n",
       "code                                                                    \n",
       "A11110    호전실업     2022-12-14            9749984.0                0.0   \n",
       "A02840    미원상사     2022-12-14            4970000.0           120000.0   \n",
       "A14330  금호에이치티     2022-12-13          201042738.0          5000000.0   \n",
       "A03160     디아이     2022-12-07           31496785.0          3196785.0   \n",
       "A00060   메리츠화재     2022-11-24          113783000.0          2678930.0   \n",
       "...         ...           ...                  ...                ...   \n",
       "A67250    HD현대     2020-02-06           16286617.0           488000.0   \n",
       "A12330   현대모비스     2020-01-30           95306694.0           252000.0   \n",
       "A35420   NAVER     2020-01-30           95306694.0           252000.0   \n",
       "A42700   한미반도체     2020-01-22           57223890.0          5722389.0   \n",
       "A03000    부광약품     2020-01-08           57223890.0          5722389.0   \n",
       "\n",
       "        prefer_stock_listed  prefer_stock_fire  \n",
       "code                                            \n",
       "A11110             641975.0           641975.0  \n",
       "A02840                  0.0                0.0  \n",
       "A14330              31825.0                0.0  \n",
       "A03160                  0.0                0.0  \n",
       "A00060                  0.0                0.0  \n",
       "...                     ...                ...  \n",
       "A67250                  0.0                0.0  \n",
       "A12330               3974.0                0.0  \n",
       "A35420               3974.0                0.0  \n",
       "A42700                  0.0                0.0  \n",
       "A03000                  0.0                0.0  \n",
       "\n",
       "[89 rows x 6 columns]"
      ]
     },
     "execution_count": 28,
     "metadata": {},
     "output_type": "execute_result"
    }
   ],
   "source": [
    "kospi_df"
   ]
  },
  {
   "cell_type": "code",
   "execution_count": 29,
   "id": "b972ab27",
   "metadata": {
    "ExecuteTime": {
     "end_time": "2023-01-06T00:59:45.349709Z",
     "start_time": "2023-01-06T00:59:45.333753Z"
    }
   },
   "outputs": [
    {
     "data": {
      "text/html": [
       "<div>\n",
       "<style scoped>\n",
       "    .dataframe tbody tr th:only-of-type {\n",
       "        vertical-align: middle;\n",
       "    }\n",
       "\n",
       "    .dataframe tbody tr th {\n",
       "        vertical-align: top;\n",
       "    }\n",
       "\n",
       "    .dataframe thead th {\n",
       "        text-align: right;\n",
       "    }\n",
       "</style>\n",
       "<table border=\"1\" class=\"dataframe\">\n",
       "  <thead>\n",
       "    <tr style=\"text-align: right;\">\n",
       "      <th></th>\n",
       "      <th>name</th>\n",
       "      <th>announce_date</th>\n",
       "      <th>common_stock_listed</th>\n",
       "      <th>common_stock_fire</th>\n",
       "      <th>prefer_stock_listed</th>\n",
       "      <th>prefer_stock_fire</th>\n",
       "    </tr>\n",
       "    <tr>\n",
       "      <th>code</th>\n",
       "      <th></th>\n",
       "      <th></th>\n",
       "      <th></th>\n",
       "      <th></th>\n",
       "      <th></th>\n",
       "      <th></th>\n",
       "    </tr>\n",
       "  </thead>\n",
       "  <tbody>\n",
       "    <tr>\n",
       "      <th>A86960</th>\n",
       "      <td>MDS테크</td>\n",
       "      <td>2022-12-19</td>\n",
       "      <td>22231520.0</td>\n",
       "      <td>1499796.0</td>\n",
       "      <td>0.0</td>\n",
       "      <td>0.0</td>\n",
       "    </tr>\n",
       "    <tr>\n",
       "      <th>A52400</th>\n",
       "      <td>코나아이</td>\n",
       "      <td>2022-12-14</td>\n",
       "      <td>15559118.0</td>\n",
       "      <td>559119.0</td>\n",
       "      <td>0.0</td>\n",
       "      <td>0.0</td>\n",
       "    </tr>\n",
       "    <tr>\n",
       "      <th>A97780</th>\n",
       "      <td>에스맥</td>\n",
       "      <td>2022-12-13</td>\n",
       "      <td>56704050.0</td>\n",
       "      <td>3054269.0</td>\n",
       "      <td>0.0</td>\n",
       "      <td>0.0</td>\n",
       "    </tr>\n",
       "    <tr>\n",
       "      <th>A61250</th>\n",
       "      <td>화일약품</td>\n",
       "      <td>2022-12-13</td>\n",
       "      <td>68052006.0</td>\n",
       "      <td>1519180.0</td>\n",
       "      <td>0.0</td>\n",
       "      <td>0.0</td>\n",
       "    </tr>\n",
       "    <tr>\n",
       "      <th>A52420</th>\n",
       "      <td>오성첨단소재</td>\n",
       "      <td>2022-12-12</td>\n",
       "      <td>72167744.0</td>\n",
       "      <td>2650000.0</td>\n",
       "      <td>0.0</td>\n",
       "      <td>0.0</td>\n",
       "    </tr>\n",
       "    <tr>\n",
       "      <th>...</th>\n",
       "      <td>...</td>\n",
       "      <td>...</td>\n",
       "      <td>...</td>\n",
       "      <td>...</td>\n",
       "      <td>...</td>\n",
       "      <td>...</td>\n",
       "    </tr>\n",
       "    <tr>\n",
       "      <th>A67570</th>\n",
       "      <td>엔브이에이치코리아</td>\n",
       "      <td>2020-02-13</td>\n",
       "      <td>28998901.0</td>\n",
       "      <td>276679.0</td>\n",
       "      <td>0.0</td>\n",
       "      <td>0.0</td>\n",
       "    </tr>\n",
       "    <tr>\n",
       "      <th>A83930</th>\n",
       "      <td>아바코</td>\n",
       "      <td>2020-02-13</td>\n",
       "      <td>28998901.0</td>\n",
       "      <td>276679.0</td>\n",
       "      <td>0.0</td>\n",
       "      <td>0.0</td>\n",
       "    </tr>\n",
       "    <tr>\n",
       "      <th>A22800</th>\n",
       "      <td>심텍</td>\n",
       "      <td>2020-02-04</td>\n",
       "      <td>22752959.0</td>\n",
       "      <td>0.0</td>\n",
       "      <td>398405.0</td>\n",
       "      <td>398405.0</td>\n",
       "    </tr>\n",
       "    <tr>\n",
       "      <th>A25770</th>\n",
       "      <td>한국정보통신</td>\n",
       "      <td>2020-01-31</td>\n",
       "      <td>38014402.0</td>\n",
       "      <td>570131.0</td>\n",
       "      <td>0.0</td>\n",
       "      <td>0.0</td>\n",
       "    </tr>\n",
       "    <tr>\n",
       "      <th>A25770</th>\n",
       "      <td>한국정보통신</td>\n",
       "      <td>2020-01-07</td>\n",
       "      <td>38014402.0</td>\n",
       "      <td>570131.0</td>\n",
       "      <td>0.0</td>\n",
       "      <td>0.0</td>\n",
       "    </tr>\n",
       "  </tbody>\n",
       "</table>\n",
       "<p>73 rows × 6 columns</p>\n",
       "</div>"
      ],
      "text/plain": [
       "              name announce_date  common_stock_listed  common_stock_fire  \\\n",
       "code                                                                       \n",
       "A86960      MDS테크     2022-12-19           22231520.0          1499796.0   \n",
       "A52400       코나아이     2022-12-14           15559118.0           559119.0   \n",
       "A97780        에스맥     2022-12-13           56704050.0          3054269.0   \n",
       "A61250       화일약품     2022-12-13           68052006.0          1519180.0   \n",
       "A52420     오성첨단소재     2022-12-12           72167744.0          2650000.0   \n",
       "...            ...           ...                  ...                ...   \n",
       "A67570  엔브이에이치코리아     2020-02-13           28998901.0           276679.0   \n",
       "A83930        아바코     2020-02-13           28998901.0           276679.0   \n",
       "A22800         심텍     2020-02-04           22752959.0                0.0   \n",
       "A25770     한국정보통신     2020-01-31           38014402.0           570131.0   \n",
       "A25770     한국정보통신     2020-01-07           38014402.0           570131.0   \n",
       "\n",
       "        prefer_stock_listed  prefer_stock_fire  \n",
       "code                                            \n",
       "A86960                  0.0                0.0  \n",
       "A52400                  0.0                0.0  \n",
       "A97780                  0.0                0.0  \n",
       "A61250                  0.0                0.0  \n",
       "A52420                  0.0                0.0  \n",
       "...                     ...                ...  \n",
       "A67570                  0.0                0.0  \n",
       "A83930                  0.0                0.0  \n",
       "A22800             398405.0           398405.0  \n",
       "A25770                  0.0                0.0  \n",
       "A25770                  0.0                0.0  \n",
       "\n",
       "[73 rows x 6 columns]"
      ]
     },
     "execution_count": 29,
     "metadata": {},
     "output_type": "execute_result"
    }
   ],
   "source": [
    "new_df"
   ]
  },
  {
   "cell_type": "code",
   "execution_count": 15,
   "id": "e4521b27",
   "metadata": {
    "ExecuteTime": {
     "end_time": "2023-01-06T01:00:45.882452Z",
     "start_time": "2023-01-06T01:00:45.866494Z"
    }
   },
   "outputs": [],
   "source": [
    "kospi_df=pd.read_csv('kospi_fire2.csv',index_col=0)\n",
    "fire_df=pd.concat([kospi_df,new_df])\n",
    "fire_df.drop_duplicates(inplace=True)\n",
    "fire_df.to_csv('fire_df2.csv')\n"
   ]
  },
  {
   "cell_type": "code",
   "execution_count": null,
   "id": "41a2ef9d",
   "metadata": {},
   "outputs": [],
   "source": []
  }
 ],
 "metadata": {
  "kernelspec": {
   "display_name": "quant",
   "language": "python",
   "name": "python3"
  },
  "language_info": {
   "codemirror_mode": {
    "name": "ipython",
    "version": 3
   },
   "file_extension": ".py",
   "mimetype": "text/x-python",
   "name": "python",
   "nbconvert_exporter": "python",
   "pygments_lexer": "ipython3",
   "version": "3.9.12"
  },
  "toc": {
   "base_numbering": 1,
   "nav_menu": {},
   "number_sections": true,
   "sideBar": true,
   "skip_h1_title": false,
   "title_cell": "Table of Contents",
   "title_sidebar": "Contents",
   "toc_cell": false,
   "toc_position": {},
   "toc_section_display": true,
   "toc_window_display": false
  },
  "vscode": {
   "interpreter": {
    "hash": "fbed880d0843c0858baca88276785c4d6795ea4c21e24517d163b1c132b88d22"
   }
  }
 },
 "nbformat": 4,
 "nbformat_minor": 5
}
